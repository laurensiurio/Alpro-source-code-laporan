{
 "cells": [
  {
   "cell_type": "markdown",
   "metadata": {},
   "source": [
    "Bualah sebuah program untuk mendapatkan nilai key, value, dan item dari sebuah\n",
    "dictionary.\n",
    "\n"
   ]
  },
  {
   "cell_type": "code",
   "execution_count": 1,
   "metadata": {},
   "outputs": [
    {
     "name": "stdout",
     "output_type": "stream",
     "text": [
      "key value item\n",
      "1 10 10\n",
      "2 20 20\n",
      "3 30 30\n",
      "4 40 40\n",
      "5 50 50\n",
      "6 60 60\n"
     ]
    }
   ],
   "source": [
    "def get_key_value_items(dictionary):\n",
    "    for key, value in dictionary.items():\n",
    "        \n",
    "        print(f\"{key} {value} {key}\")\n",
    "\n",
    "print(\"key value item\")\n",
    "\n",
    "\n",
    "coba =  {1: 10, 2: 20, 3: 30, 4: 40, 5: 50, 6: 60}\n",
    "get_key_value_items(coba)\n"
   ]
  },
  {
   "cell_type": "markdown",
   "metadata": {},
   "source": [
    "Bualah sebuah program untuk memetakan dua list mejadi satu dictionary"
   ]
  },
  {
   "cell_type": "code",
   "execution_count": 13,
   "metadata": {},
   "outputs": [
    {
     "name": "stdout",
     "output_type": "stream",
     "text": [
      "{'red': '#FF0000', 'green': '#008000', 'blue': '#0000FF'}\n"
     ]
    }
   ],
   "source": [
    "lista = ['red', 'green', 'blue']\n",
    "listb = ['#FF0000','#008000', '#0000FF']\n",
    "hasil = {}\n",
    "for i in range(len(lista)):\n",
    "    hasil[lista[i]] = listb[i]\n",
    "print(hasil)\n",
    "    "
   ]
  },
  {
   "cell_type": "markdown",
   "metadata": {},
   "source": [
    "Dengan menggunakan file mbox-short.txt, buatlah program yang dapat membaca\n",
    "log email dan sajikan dalam histogram menggunakan dictionary. Kemudian hitung berapa\n",
    "banyak pesan yang masuk dari email dan sajikan dalam bentuk dictionary."
   ]
  },
  {
   "cell_type": "code",
   "execution_count": 30,
   "metadata": {},
   "outputs": [
    {
     "name": "stdout",
     "output_type": "stream",
     "text": [
      "masukkan nama file : mbox-short.txt\n",
      "{'stephen.marquard@uct.ac.za': 2, 'louis@media.berkeley.edu': 3, 'zqian@umich.edu': 4, 'rjlowe@iupui.edu': 2, 'cwen@iupui.edu': 5, 'gsilver@umich.edu': 3, 'wagnermr@iupui.edu': 1, 'antranig@caret.cam.ac.uk': 1, 'gopal.ramasammycook@gmail.com': 1, 'david.horwitz@uct.ac.za': 4, 'ray@media.berkeley.edu': 1}\n"
     ]
    }
   ],
   "source": [
    "with open('mbox-short.txt', 'r') as f:\n",
    "    hasil = {}\n",
    "    for line in f:\n",
    "        if line.startswith(\"From \"):\n",
    "            email = line.split()[1]\n",
    "            hasil[email] = hasil.get(email, 0) + 1\n",
    "\n",
    "print('masukkan nama file :',f.name)\n",
    "print(hasil)\n"
   ]
  },
  {
   "cell_type": "markdown",
   "metadata": {},
   "source": [
    "4. Dengan menggunakan file mbox-short.txt, buat program untuk mencatat data\n",
    "nama domain pengirim pesan. Hitunglah jumlah pesan yang dikirim masing-masing domain.\n",
    "sajikan dalam bentuk dictionary."
   ]
  },
  {
   "cell_type": "code",
   "execution_count": 32,
   "metadata": {},
   "outputs": [
    {
     "name": "stdout",
     "output_type": "stream",
     "text": [
      "masukkan nama file : mbox-short.txt\n",
      "{'uct.ac.za': 6, 'media.berkeley.edu': 4, 'umich.edu': 7, 'iupui.edu': 8, 'caret.cam.ac.uk': 1, 'gmail.com': 1}\n"
     ]
    }
   ],
   "source": [
    "with open('mbox-short.txt', 'r') as f:\n",
    "    hasil = {}\n",
    "    for line in f:\n",
    "        if line.startswith(\"From \"):\n",
    "            email = line.split()[1]\n",
    "            domain = email.split('@')[1]\n",
    "            hasil[domain] = hasil.get(domain, 0) + 1\n",
    "\n",
    "print('masukkan nama file :',f.name)\n",
    "print(hasil)"
   ]
  }
 ],
 "metadata": {
  "kernelspec": {
   "display_name": "Python 3",
   "language": "python",
   "name": "python3"
  },
  "language_info": {
   "codemirror_mode": {
    "name": "ipython",
    "version": 3
   },
   "file_extension": ".py",
   "mimetype": "text/x-python",
   "name": "python",
   "nbconvert_exporter": "python",
   "pygments_lexer": "ipython3",
   "version": "3.12.0"
  }
 },
 "nbformat": 4,
 "nbformat_minor": 2
}
