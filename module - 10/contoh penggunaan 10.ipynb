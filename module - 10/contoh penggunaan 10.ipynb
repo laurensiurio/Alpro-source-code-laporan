{
 "cells": [
  {
   "cell_type": "code",
   "execution_count": 1,
   "metadata": {},
   "outputs": [
    {
     "name": "stdout",
     "output_type": "stream",
     "text": [
      "{'b': 1, 'r': 2, 'o': 2, 'n': 1, 't': 1, 's': 2, 'a': 1, 'u': 2}\n"
     ]
    }
   ],
   "source": [
    "def histogram(s):\n",
    "    d = dict()\n",
    "    for c in s:\n",
    "        if c not in d:\n",
    "            d[c] = 1\n",
    "        else:\n",
    "            d[c] += 1\n",
    "    return d\n",
    "\n",
    "# Contoh penggunaan\n",
    "h = histogram('brontosaurus')\n",
    "print(h)\n"
   ]
  },
  {
   "cell_type": "code",
   "execution_count": 1,
   "metadata": {},
   "outputs": [
    {
     "name": "stdout",
     "output_type": "stream",
     "text": [
      "['Halo', 'dunia', 'ini', 'adalah', 'contoh', 'kalimat']\n"
     ]
    }
   ],
   "source": [
    "teks = \"Halo dunia ini adalah contoh kalimat\"\n",
    "kata_kata = teks.split()  # Memisahkan kata-kata berdasarkan spasi\n",
    "print(kata_kata)\n"
   ]
  },
  {
   "cell_type": "code",
   "execution_count": null,
   "metadata": {},
   "outputs": [],
   "source": [
    "def hitung_kemunculan_kata(file_path):\n",
    "    with open(file_path, 'r') as file:\n",
    "        kemunculan_kata = {}\n",
    "        for line in file:\n",
    "            kata_kata = line.split()\n",
    "            for kata in kata_kata:\n",
    "                kata = kata.strip('.,!?()[]{}\"\\'').lower()\n",
    "                kemunculan_kata[kata] = kemunculan_kata.get(kata, 0) + 1\n",
    "    return kemunculan_kata\n",
    "\n",
    "# Contoh penggunaan\n",
    "file_path = 'nama_file.txt'  # Ganti dengan nama file yang ingin Anda hitung\n",
    "hasil_kemunculan = hitung_kemunculan_kata(file_path)\n",
    "\n",
    "for kata, jumlah in hasil_kemunculan.items():\n",
    "    print(f\"'{kata}': {jumlah} kali\")\n"
   ]
  }
 ],
 "metadata": {
  "kernelspec": {
   "display_name": "Python 3",
   "language": "python",
   "name": "python3"
  },
  "language_info": {
   "codemirror_mode": {
    "name": "ipython",
    "version": 3
   },
   "file_extension": ".py",
   "mimetype": "text/x-python",
   "name": "python",
   "nbconvert_exporter": "python",
   "pygments_lexer": "ipython3",
   "version": "3.12.0"
  }
 },
 "nbformat": 4,
 "nbformat_minor": 2
}
