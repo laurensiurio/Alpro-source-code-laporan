{
 "cells": [
  {
   "cell_type": "code",
   "execution_count": 16,
   "metadata": {},
   "outputs": [
    {
     "name": "stdout",
     "output_type": "stream",
     "text": [
      "Jumlah hari: Bulan yang diinputkan tidak valid.\n"
     ]
    }
   ],
   "source": [
    "def jumlah_hari(bulan):\n",
    "    # Kamus jumlah hari dalam bulan\n",
    "    hari_dalam_bulan = {\n",
    "        1: 31, 2: 29, 3: 31, 4: 30, 5: 31, 6: 30,\n",
    "        7: 31, 8: 31, 9: 30, 10: 31, 11: 30, 12: 31\n",
    "    }\n",
    "    \n",
    "    # Cek apakah bulan valid dan cetak jumlah hari\n",
    "    if bulan in hari_dalam_bulan:\n",
    "        return hari_dalam_bulan[bulan]\n",
    "    else:\n",
    "        return \"Bulan yang diinputkan tidak valid.\"\n",
    "\n",
    "# input \n",
    "try:\n",
    "    bulan_input = int(input(\"Masukkan bulan (1-12): \"))\n",
    "    hasil = jumlah_hari(bulan_input)\n",
    "    print(\"Jumlah hari:\", hasil)\n",
    "except ValueError:\n",
    "    print(\"Input tidak valid. Harap masukkan angka bulan (1-12).\")\n",
    "\n",
    "\n",
    "\n"
   ]
  }
 ],
 "metadata": {
  "kernelspec": {
   "display_name": "Python 3",
   "language": "python",
   "name": "python3"
  },
  "language_info": {
   "codemirror_mode": {
    "name": "ipython",
    "version": 3
   },
   "file_extension": ".py",
   "mimetype": "text/x-python",
   "name": "python",
   "nbconvert_exporter": "python",
   "pygments_lexer": "ipython3",
   "version": "3.12.0"
  }
 },
 "nbformat": 4,
 "nbformat_minor": 2
}
