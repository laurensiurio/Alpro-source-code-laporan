{
 "cells": [
  {
   "cell_type": "code",
   "execution_count": 36,
   "metadata": {},
   "outputs": [
    {
     "name": "stdout",
     "output_type": "stream",
     "text": [
      "Anda mengalami demam. Silakan berkonsultasi dengan dokter.\n"
     ]
    }
   ],
   "source": [
    "# latihan 1 contoh 3.1\n",
    "try:\n",
    "    suhu_tubuh = float(input(\"Masukkan suhu tubuh Anda (dalam derajat Celcius): \"))\n",
    "\n",
    "    if suhu_tubuh >= 38:\n",
    "        print(\"Anda demam.\")\n",
    "    else:\n",
    "        print(\"Suhu tubuh Anda normal.\")\n",
    "except ValueError:\n",
    "    print(\"Input tidak valid. Harap masukkan suhu tubuh dalam bentuk angka.\")\n"
   ]
  },
  {
   "cell_type": "code",
   "execution_count": 20,
   "metadata": {},
   "outputs": [
    {
     "name": "stdout",
     "output_type": "stream",
     "text": [
      "bilangan nol\n"
     ]
    }
   ],
   "source": [
    "# latihan 1 contoh 3.2\n",
    "def cek_positif_negatif():\n",
    "    try:\n",
    "        bil = float(input('masukkan sebuah bilangan:'))\n",
    "        if bil < 0 :\n",
    "            print('bilangan negatif')\n",
    "        elif bil > 0 :\n",
    "            print('bilangan positif')\n",
    "        elif bil == 0 :\n",
    "            print('bilangan nol')\n",
    "        \n",
    "    except ValueError:\n",
    "            print('Masukkan angka !!')  \n",
    "        \n",
    "     \n",
    "cek_positif_negatif()   \n"
   ]
  },
  {
   "cell_type": "code",
   "execution_count": 23,
   "metadata": {},
   "outputs": [
    {
     "name": "stdout",
     "output_type": "stream",
     "text": [
      "Terbesar adalah A yaitu:  5\n"
     ]
    }
   ],
   "source": [
    "# latihan 1 contoh 3.3\n",
    "\n",
    "def angka_terbesar():\n",
    "    try:\n",
    "        A = int(input('masukkan bilangan pertama:'))\n",
    "        B = int(input('masukkan bilangan kedua:'))\n",
    "        C = int(input('masukkan bilangan ketiga:'))\n",
    "        if A > B and A > C:\n",
    "            print(\"Terbesar adalah A yaitu: \", A)\n",
    "        elif B > A and B > C:\n",
    "            print(\"Terbesar adalah B yaitu: \", B)\n",
    "        elif C > A and C > B:\n",
    "            print(\"Terbesar adalah C yaitu: \", C)\n",
    "        \n",
    "    except ValueError:\n",
    "            print('Masukkan angka !!')  \n",
    "        \n",
    "     \n",
    "angka_terbesar()  \n"
   ]
  },
  {
   "cell_type": "code",
   "execution_count": 26,
   "metadata": {},
   "outputs": [
    {
     "name": "stdout",
     "output_type": "stream",
     "text": [
      "bilangan negatif\n"
     ]
    }
   ],
   "source": [
    "# latihan 2\n",
    "bil = float(input('Masukkan sebuah bilangan'))\n",
    "print('bilangan negatif') if bil < 0  else 'bilangan positif' if bil > 0 else 'bilangan tersebut angka nol'"
   ]
  },
  {
   "cell_type": "code",
   "execution_count": 34,
   "metadata": {},
   "outputs": [
    {
     "name": "stdout",
     "output_type": "stream",
     "text": [
      "Masukkan Angka !!!!!.\n"
     ]
    }
   ],
   "source": [
    "# latihan 3\n",
    "def jenis_segitiga():\n",
    "    try:\n",
    "        sisi1 = float(input(\"Masukkan panjang sisi pertama: \"))\n",
    "        sisi2 = float(input(\"Masukkan panjang sisi kedua: \"))\n",
    "        sisi3 = float(input(\"Masukkan panjang sisi ketiga: \"))\n",
    "\n",
    "        if sisi1 == sisi2 == sisi3:\n",
    "            print(\"3 sisi sama semua\")\n",
    "        elif sisi1 == sisi2 :\n",
    "            print(\"hanya 2 sisi yang sama yaitu sisi 1:\",round(sisi1), 'dan sisi 2:',round(sisi2))\n",
    "        elif  sisi2 == sisi3 :\n",
    "            print(\"hanya 2 sisi yang sama yaitu sisi 2:\",round(sisi2), 'dan sisi 3:',round(sisi3))\n",
    "        elif sisi1 == sisi3:\n",
    "            print(\"hanya 2 sisi yang sama yaitu sisi 1:\",round(sisi1), 'dan sisi 3:',round(sisi3))\n",
    "        else:\n",
    "            print(\"Tidak ada yang sama\")\n",
    "    except ValueError:\n",
    "        print(\"Masukkan Angka !!!!!.\")\n",
    "\n",
    "# Panggil fungsi\n",
    "jenis_segitiga()\n"
   ]
  },
  {
   "cell_type": "code",
   "execution_count": 16,
   "metadata": {},
   "outputs": [
    {
     "name": "stdout",
     "output_type": "stream",
     "text": [
      "Jumlah hari: Bulan yang diinputkan tidak valid.\n"
     ]
    }
   ],
   "source": [
    "# latihan 3\n",
    "def jumlah_hari(bulan):\n",
    "    hari_dalam_bulan = {\n",
    "        1: 31, 2: 29, 3: 31, 4: 30, 5: 31, 6: 30,\n",
    "        7: 31, 8: 31, 9: 30, 10: 31, 11: 30, 12: 31\n",
    "    }\n",
    "    \n",
    "    # Cek apakah bulan valid dan cetak jumlah hari\n",
    "    if bulan in hari_dalam_bulan:\n",
    "        return hari_dalam_bulan[bulan]\n",
    "    else:\n",
    "        return \"Bulan yang diinputkan tidak valid.\"\n",
    "\n",
    "\n",
    "try:\n",
    "    bulan_input = int(input(\"Masukkan bulan (1-12): \"))\n",
    "    hasil = jumlah_hari(bulan_input)\n",
    "    print(\"Jumlah hari:\", hasil)\n",
    "except ValueError:\n",
    "    print(\"Input tidak valid. Harap masukkan angka bulan (1-12).\")\n",
    "\n",
    "\n",
    "\n"
   ]
  }
 ],
 "metadata": {
  "kernelspec": {
   "display_name": "Python 3",
   "language": "python",
   "name": "python3"
  },
  "language_info": {
   "codemirror_mode": {
    "name": "ipython",
    "version": 3
   },
   "file_extension": ".py",
   "mimetype": "text/x-python",
   "name": "python",
   "nbconvert_exporter": "python",
   "pygments_lexer": "ipython3",
   "version": "3.12.0"
  }
 },
 "nbformat": 4,
 "nbformat_minor": 2
}
