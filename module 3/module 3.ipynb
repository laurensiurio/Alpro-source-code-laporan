{
 "cells": [
  {
   "cell_type": "code",
   "execution_count": null,
   "metadata": {},
   "outputs": [],
   "source": [
    "# latihan 1 contoh 3.1\n",
    "try:\n",
    "    # Meminta input suhu \n",
    "    suhu_tubuh = float(input(\"Masukkan suhu tubuh Anda (dalam derajat Celcius): \"))\n",
    "\n",
    "    # Menentukan apakah pengguna mengalami demam\n",
    "    if suhu_tubuh >= 38:\n",
    "        print(\"Anda mengalami demam. Silakan berkonsultasi dengan dokter.\")\n",
    "    else:\n",
    "        print(\"Suhu tubuh Anda normal.\")\n",
    "except ValueError:\n",
    "    # Menangani kesalahan input yang bukan angka\n",
    "    print(\"Input tidak valid. Harap masukkan suhu tubuh dalam bentuk angka.\")\n"
   ]
  },
  {
   "cell_type": "code",
   "execution_count": 20,
   "metadata": {},
   "outputs": [
    {
     "name": "stdout",
     "output_type": "stream",
     "text": [
      "bilangan nol\n"
     ]
    }
   ],
   "source": [
    "# latihan 1 contoh 3.2\n",
    "def cek_positif_negatif():\n",
    "    try:\n",
    "        bil = float(input('masukkan sebuah bilangan:'))\n",
    "        if bil < 0 :\n",
    "            print('bilangan negatif')\n",
    "        elif bil > 0 :\n",
    "            print('bilangan positif')\n",
    "        elif bil == 0 :\n",
    "            print('bilangan nol')\n",
    "        \n",
    "    except ValueError:\n",
    "            print('Masukkan angka !!')  \n",
    "        \n",
    "     \n",
    "cek_positif_negatif()   \n"
   ]
  },
  {
   "cell_type": "code",
   "execution_count": 23,
   "metadata": {},
   "outputs": [
    {
     "name": "stdout",
     "output_type": "stream",
     "text": [
      "Terbesar adalah A yaitu:  5\n"
     ]
    }
   ],
   "source": [
    "# latihan 1 contoh 3.3\n",
    "\n",
    "def angka_terbesar():\n",
    "    try:\n",
    "        A = int(input('masukkan bilangan pertama:'))\n",
    "        B = int(input('masukkan bilangan kedua:'))\n",
    "        C = int(input('masukkan bilangan ketiga:'))\n",
    "        if A > B and A > C:\n",
    "            print(\"Terbesar adalah A yaitu: \", A)\n",
    "        elif B > A and B > C:\n",
    "            print(\"Terbesar adalah B yaitu: \", B)\n",
    "        elif C > A and C > B:\n",
    "            print(\"Terbesar adalah C yaitu: \", C)\n",
    "        \n",
    "    except ValueError:\n",
    "            print('Masukkan angka !!')  \n",
    "        \n",
    "     \n",
    "angka_terbesar()  \n"
   ]
  },
  {
   "cell_type": "code",
   "execution_count": 16,
   "metadata": {},
   "outputs": [
    {
     "name": "stdout",
     "output_type": "stream",
     "text": [
      "Jumlah hari: Bulan yang diinputkan tidak valid.\n"
     ]
    }
   ],
   "source": [
    "def jumlah_hari(bulan):\n",
    "    # Kamus jumlah hari dalam bulan\n",
    "    hari_dalam_bulan = {\n",
    "        1: 31, 2: 29, 3: 31, 4: 30, 5: 31, 6: 30,\n",
    "        7: 31, 8: 31, 9: 30, 10: 31, 11: 30, 12: 31\n",
    "    }\n",
    "    \n",
    "    # Cek apakah bulan valid dan cetak jumlah hari\n",
    "    if bulan in hari_dalam_bulan:\n",
    "        return hari_dalam_bulan[bulan]\n",
    "    else:\n",
    "        return \"Bulan yang diinputkan tidak valid.\"\n",
    "\n",
    "# input \n",
    "try:\n",
    "    bulan_input = int(input(\"Masukkan bulan (1-12): \"))\n",
    "    hasil = jumlah_hari(bulan_input)\n",
    "    print(\"Jumlah hari:\", hasil)\n",
    "except ValueError:\n",
    "    print(\"Input tidak valid. Harap masukkan angka bulan (1-12).\")\n",
    "\n",
    "\n",
    "\n"
   ]
  }
 ],
 "metadata": {
  "kernelspec": {
   "display_name": "Python 3",
   "language": "python",
   "name": "python3"
  },
  "language_info": {
   "codemirror_mode": {
    "name": "ipython",
    "version": 3
   },
   "file_extension": ".py",
   "mimetype": "text/x-python",
   "name": "python",
   "nbconvert_exporter": "python",
   "pygments_lexer": "ipython3",
   "version": "3.12.0"
  }
 },
 "nbformat": 4,
 "nbformat_minor": 2
}
