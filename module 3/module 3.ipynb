{
 "cells": [
  {
   "cell_type": "code",
   "execution_count": null,
   "metadata": {},
   "outputs": [],
   "source": [
    "# latihan 1 contoh 3.1\n",
    "try:\n",
    "    # Meminta input suhu \n",
    "    suhu_tubuh = float(input(\"Masukkan suhu tubuh Anda (dalam derajat Celcius): \"))\n",
    "\n",
    "    # Menentukan apakah pengguna mengalami demam\n",
    "    if suhu_tubuh >= 38:\n",
    "        print(\"Anda mengalami demam. Silakan berkonsultasi dengan dokter.\")\n",
    "    else:\n",
    "        print(\"Suhu tubuh Anda normal.\")\n",
    "except ValueError:\n",
    "    # Menangani kesalahan input yang bukan angka\n",
    "    print(\"Input tidak valid. Harap masukkan suhu tubuh dalam bentuk angka.\")\n"
   ]
  },
  {
   "cell_type": "code",
   "execution_count": 20,
   "metadata": {},
   "outputs": [
    {
     "ename": "IndentationError",
     "evalue": "expected an indented block after 'try' statement on line 2 (153306899.py, line 3)",
     "output_type": "error",
     "traceback": [
      "\u001b[1;36m  Cell \u001b[1;32mIn[20], line 3\u001b[1;36m\u001b[0m\n\u001b[1;33m    x = int(input('masukkan sebuah bilangan'))\u001b[0m\n\u001b[1;37m    ^\u001b[0m\n\u001b[1;31mIndentationError\u001b[0m\u001b[1;31m:\u001b[0m expected an indented block after 'try' statement on line 2\n"
     ]
    }
   ],
   "source": [
    "# latihan 1 contoh 3.2\n",
    "try:\n",
    "x = int(input('masukkan sebuah bilangan'))\n",
    "\n",
    "\n",
    "  # contoh conditional\n",
    "if x < 0 :\n",
    "    print('bilangan positif')\n",
    "elif x > 0 :\n",
    "    print('bilangan negatif')\n",
    "elif x == 0 :\n",
    "    print('bilangan nol')\n",
    "\n",
    "except ValueError:\n",
    "print('Masukkan angka !!')    \n",
    "    \n"
   ]
  },
  {
   "cell_type": "code",
   "execution_count": 16,
   "metadata": {},
   "outputs": [
    {
     "name": "stdout",
     "output_type": "stream",
     "text": [
      "Jumlah hari: Bulan yang diinputkan tidak valid.\n"
     ]
    }
   ],
   "source": [
    "def jumlah_hari(bulan):\n",
    "    # Kamus jumlah hari dalam bulan\n",
    "    hari_dalam_bulan = {\n",
    "        1: 31, 2: 29, 3: 31, 4: 30, 5: 31, 6: 30,\n",
    "        7: 31, 8: 31, 9: 30, 10: 31, 11: 30, 12: 31\n",
    "    }\n",
    "    \n",
    "    # Cek apakah bulan valid dan cetak jumlah hari\n",
    "    if bulan in hari_dalam_bulan:\n",
    "        return hari_dalam_bulan[bulan]\n",
    "    else:\n",
    "        return \"Bulan yang diinputkan tidak valid.\"\n",
    "\n",
    "# input \n",
    "try:\n",
    "    bulan_input = int(input(\"Masukkan bulan (1-12): \"))\n",
    "    hasil = jumlah_hari(bulan_input)\n",
    "    print(\"Jumlah hari:\", hasil)\n",
    "except ValueError:\n",
    "    print(\"Input tidak valid. Harap masukkan angka bulan (1-12).\")\n",
    "\n",
    "\n",
    "\n"
   ]
  }
 ],
 "metadata": {
  "kernelspec": {
   "display_name": "Python 3",
   "language": "python",
   "name": "python3"
  },
  "language_info": {
   "codemirror_mode": {
    "name": "ipython",
    "version": 3
   },
   "file_extension": ".py",
   "mimetype": "text/x-python",
   "name": "python",
   "nbconvert_exporter": "python",
   "pygments_lexer": "ipython3",
   "version": "3.12.0"
  }
 },
 "nbformat": 4,
 "nbformat_minor": 2
}
