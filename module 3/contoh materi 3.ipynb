{
 "cells": [
  {
   "cell_type": "code",
   "execution_count": 8,
   "metadata": {},
   "outputs": [
    {
     "name": "stdout",
     "output_type": "stream",
     "text": [
      "False\n",
      "False\n",
      "True\n",
      "False\n",
      "True\n",
      "True\n"
     ]
    }
   ],
   "source": [
    "#materi 1\n",
    "# Contoh 1: Perbandingan sama dengan\n",
    "x = int(input('masukkan x'))\n",
    "y = int(input('masukkan y'))\n",
    "print(x == y)  \n",
    "\n",
    "# Contoh 2: Perbandingan lebih besar dari\n",
    "print(x > y)  \n",
    "\n",
    "# Contoh 3: Perbandingan kurang dari atau sama dengan\n",
    "print(x <= y)  \n",
    "\n",
    "# Contoh 4: Logika AND\n",
    "print(x < 20 and y > 10)  \n",
    "\n",
    "# Contoh 5: Logika OR\n",
    "print(x < 10 or y == 20)  \n",
    "\n",
    "# Contoh 6: Logika NOT\n",
    "print(not(x == y))  \n"
   ]
  },
  {
   "cell_type": "code",
   "execution_count": 16,
   "metadata": {},
   "outputs": [
    {
     "name": "stdout",
     "output_type": "stream",
     "text": [
      "x lebih besar atau sama dengan y\n",
      "x dan y merupakan bilangan yang sama\n"
     ]
    }
   ],
   "source": [
    "#materi 2\n",
    "x = int(input('masukkan x'))\n",
    "y = int(input('masukkan y'))\n",
    "\n",
    "# contoh conditional\n",
    "if x < y:\n",
    "    print('x lebih kecil dari y')\n",
    "    \n",
    "# contoh alternative\n",
    "\n",
    "\n",
    "if x < y:\n",
    "    print('x lebih kecil dari y')\n",
    "else:\n",
    "    print('x lebih besar atau sama dengan y')\n",
    "\n",
    "# contoh chained\n",
    "\n",
    "\n",
    "if x < y:\n",
    "    print(\"x lebih kecil dari y\")\n",
    "elif x > y:\n",
    "    print(\"x lebih besar dari y\")\n",
    "else:\n",
    "    x = y\n",
    "    print(\"x dan y merupakan bilangan yang sama\")\n",
    "\n"
   ]
  },
  {
   "cell_type": "code",
   "execution_count": 21,
   "metadata": {},
   "outputs": [
    {
     "name": "stdout",
     "output_type": "stream",
     "text": [
      "pilihlah bilangan selain nol.\n"
     ]
    }
   ],
   "source": [
    "# materi 3\n",
    "x = int(input('masukkan x'))\n",
    "y = int(input('masukkan y'))\n",
    "\n",
    "try:\n",
    "    # Mencoba membagi angka dengan nol\n",
    "    hasil = x / y\n",
    "    print('Hasil pembagian adalah:', hasil)\n",
    "except ZeroDivisionError:\n",
    "    # Menangani kesalahan pembagian dengan nol\n",
    "    print('pilihlah bilangan selain nol.')\n"
   ]
  }
 ],
 "metadata": {
  "kernelspec": {
   "display_name": "Python 3",
   "language": "python",
   "name": "python3"
  },
  "language_info": {
   "codemirror_mode": {
    "name": "ipython",
    "version": 3
   },
   "file_extension": ".py",
   "mimetype": "text/x-python",
   "name": "python",
   "nbconvert_exporter": "python",
   "pygments_lexer": "ipython3",
   "version": "3.12.0"
  }
 },
 "nbformat": 4,
 "nbformat_minor": 2
}
