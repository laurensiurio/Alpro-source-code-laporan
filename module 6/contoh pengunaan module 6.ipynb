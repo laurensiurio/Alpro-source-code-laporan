{
 "cells": [
  {
   "cell_type": "code",
   "execution_count": 6,
   "metadata": {},
   "outputs": [
    {
     "name": "stdout",
     "output_type": "stream",
     "text": [
      "nilai yang anda masukkan adalah 70 selamat anda mendapatkan B\n"
     ]
    }
   ],
   "source": [
    "nilai = int(input('Masukkan nilai anda:'))\n",
    "if nilai >= 70:\n",
    "    if nilai >= 90:\n",
    "        print(f'nilai yang anda masukkan adalah {nilai} selamat anda mendapatkan A')\n",
    "    else:\n",
    "        print(f'nilai yang anda masukkan adalah {nilai} selamat anda mendapatkan B')\n",
    "else:\n",
    "    print(f'nilai yang anda masukkan adalah {nilai} anda tidak lulus')\n"
   ]
  },
  {
   "cell_type": "code",
   "execution_count": null,
   "metadata": {},
   "outputs": [],
   "source": [
    "total = 0\n",
    "while True:\n",
    "    bilangan = int(input(\"Masukkan bilangan (0 untuk berhenti): \"))\n",
    "    if bilangan == 0:\n",
    "        break\n",
    "    total += bilangan\n",
    "print(f\"Total bilangan yang dimasukkan: {total}\")\n"
   ]
  }
 ],
 "metadata": {
  "kernelspec": {
   "display_name": "Python 3",
   "language": "python",
   "name": "python3"
  },
  "language_info": {
   "codemirror_mode": {
    "name": "ipython",
    "version": 3
   },
   "file_extension": ".py",
   "mimetype": "text/x-python",
   "name": "python",
   "nbconvert_exporter": "python",
   "pygments_lexer": "ipython3",
   "version": "3.12.0"
  }
 },
 "nbformat": 4,
 "nbformat_minor": 2
}
