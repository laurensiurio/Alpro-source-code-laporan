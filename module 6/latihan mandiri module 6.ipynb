{
 "cells": [
  {
   "cell_type": "code",
   "execution_count": 1,
   "metadata": {},
   "outputs": [
    {
     "name": "stdout",
     "output_type": "stream",
     "text": [
      "Bilangan prima terdekat yang lebih kecil dari 10 adalah 7.\n"
     ]
    }
   ],
   "source": [
    "#latihan 1\n",
    "def angka_prima(bil):\n",
    "    if bil <= 1:\n",
    "        return False\n",
    "    for i in range(2, int(bil**0.5) + 1):\n",
    "        if bil % i == 0:\n",
    "            return False\n",
    "    return True\n",
    "\n",
    "def prima_terdekat(n):\n",
    "    for i in range(n-1, 1, -1):\n",
    "        if angka_prima(i):\n",
    "            return i\n",
    "\n",
    "#input\n",
    "n = int(input(\"Masukkan bilangan: \"))\n",
    "\n",
    "\n",
    "prima = prima_terdekat(n)\n",
    "\n",
    "\n",
    "print(f\"Bilangan prima terdekat yang lebih kecil dari {n} adalah {prima}.\")\n"
   ]
  },
  {
   "cell_type": "code",
   "execution_count": 12,
   "metadata": {},
   "outputs": [
    {
     "name": "stdout",
     "output_type": "stream",
     "text": [
      "720 6 5 4 3 2 1 \n",
      "120 5 4 3 2 1 \n",
      "24 4 3 2 1 \n",
      "6 3 2 1 \n",
      "2 2 1 \n",
      "1 1 \n"
     ]
    }
   ],
   "source": [
    "#latihan 2\n",
    "def kotak(n):\n",
    "    if n == 0:\n",
    "        return 1\n",
    "    else:\n",
    "        return n * kotak(n-1)\n",
    "\n",
    "def proses(n):\n",
    "    for i in range(n, 0, -1):\n",
    "        angka = kotak(i)\n",
    "        print(f\"{angka}\", end=\" \")\n",
    "        for j in range(i, 0, -1):\n",
    "            print(j, end=\" \")\n",
    "        print()  \n",
    "\n",
    "#input\n",
    "n = int(input(\"Masukkan nilai n: \"))\n",
    "\n",
    "#print\n",
    "proses(n)\n"
   ]
  },
  {
   "cell_type": "code",
   "execution_count": 11,
   "metadata": {},
   "outputs": [
    {
     "name": "stdout",
     "output_type": "stream",
     "text": [
      "1 2 3 4 5 \n",
      "6 7 8 9 10 \n",
      "11 12 13 14 15 \n",
      "16 17 18 19 20 \n",
      "21 22 23 24 25 \n"
     ]
    }
   ],
   "source": [
    "#latihan 3\n",
    "def kotak(tinggi, lebar):\n",
    "    bil = 1\n",
    "    for i in range(tinggi):\n",
    "        for j in range(lebar):\n",
    "            print(bil, end=' ')\n",
    "            bil += 1\n",
    "        print()  \n",
    "\n",
    "\n",
    "tinggi = int(input(\"Masukkan tinggi: \"))\n",
    "lebar = int(input(\"Masukkan lebar: \"))\n",
    "\n",
    "\n",
    "kotak(tinggi, lebar)\n"
   ]
  }
 ],
 "metadata": {
  "kernelspec": {
   "display_name": "Python 3",
   "language": "python",
   "name": "python3"
  },
  "language_info": {
   "codemirror_mode": {
    "name": "ipython",
    "version": 3
   },
   "file_extension": ".py",
   "mimetype": "text/x-python",
   "name": "python",
   "nbconvert_exporter": "python",
   "pygments_lexer": "ipython3",
   "version": "3.12.0"
  }
 },
 "nbformat": 4,
 "nbformat_minor": 2
}
