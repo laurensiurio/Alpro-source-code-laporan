{
 "cells": [
  {
   "cell_type": "markdown",
   "metadata": {},
   "source": [
    "Bualah sebuah program untuk mendapatkan nilai key, value, dan item dari sebuah\n",
    "dictionary.\n",
    "\n"
   ]
  },
  {
   "cell_type": "code",
   "execution_count": 4,
   "metadata": {},
   "outputs": [
    {
     "name": "stdout",
     "output_type": "stream",
     "text": [
      "1 10 1\n",
      "2 20 2\n",
      "3 30 3\n",
      "4 40 4\n",
      "5 50 5\n",
      "6 60 6\n"
     ]
    }
   ],
   "source": [
    "def get_key_value_items(dictionary):\n",
    "    for key, value in dictionary.items():\n",
    "        print(f\"{key} {value} {key}\")\n",
    "\n",
    "\n",
    "coba =  {1: 10, 2: 20, 3: 30, 4: 40, 5: 50, 6: 60}\n",
    "get_key_value_items(coba)\n"
   ]
  },
  {
   "cell_type": "markdown",
   "metadata": {},
   "source": [
    "Bualah sebuah program untuk memetakan dua list mejadi satu dictionary"
   ]
  },
  {
   "cell_type": "code",
   "execution_count": 13,
   "metadata": {},
   "outputs": [
    {
     "name": "stdout",
     "output_type": "stream",
     "text": [
      "{'red': '#FF0000', 'green': '#008000', 'blue': '#0000FF'}\n"
     ]
    }
   ],
   "source": [
    "lista = ['red', 'green', 'blue']\n",
    "listb = ['#FF0000','#008000', '#0000FF']\n",
    "hasil = {}\n",
    "for i in range(len(lista)):\n",
    "    hasil[lista[i]] = listb[i]\n",
    "print(hasil)\n",
    "    "
   ]
  },
  {
   "cell_type": "markdown",
   "metadata": {},
   "source": [
    "Dengan menggunakan file mbox-short.txt, buatlah program yang dapat membaca\n",
    "log email dan sajikan dalam histogram menggunakan dictionary. Kemudian hitung berapa\n",
    "banyak pesan yang masuk dari email dan sajikan dalam bentuk dictionary."
   ]
  },
  {
   "cell_type": "code",
   "execution_count": null,
   "metadata": {},
   "outputs": [],
   "source": []
  }
 ],
 "metadata": {
  "kernelspec": {
   "display_name": "Python 3",
   "language": "python",
   "name": "python3"
  },
  "language_info": {
   "codemirror_mode": {
    "name": "ipython",
    "version": 3
   },
   "file_extension": ".py",
   "mimetype": "text/x-python",
   "name": "python",
   "nbconvert_exporter": "python",
   "pygments_lexer": "ipython3",
   "version": "3.12.0"
  }
 },
 "nbformat": 4,
 "nbformat_minor": 2
}
