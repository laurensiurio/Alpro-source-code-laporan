{
 "cells": [
  {
   "cell_type": "code",
   "execution_count": 1,
   "metadata": {},
   "outputs": [
    {
     "name": "stdout",
     "output_type": "stream",
     "text": [
      "Masukkan 5 nama aplikasi di kategori TEmbak\n",
      "Masukkan 5 nama aplikasi di kategori air\n",
      "Masukkan 5 nama aplikasi di kategori ikan\n",
      "Masukkan 5 nama aplikasi di kategori aya\n",
      "Masukkan 5 nama aplikasi di kategori as\n",
      "{'as': ['s', 's', 's', 's', 's']}\n",
      "[{'s'}]\n",
      "{'s'}\n"
     ]
    }
   ],
   "source": [
    "n = int(input('Masukkan jumlah kategori: '))\n",
    "data_aplikasi = {}\n",
    "\n",
    "for i in range(n):\n",
    "    nama_kategori = input('Masukkan nama kategori:')\n",
    "    print('Masukkan 5 nama aplikasi di kategori', nama_kategori)\n",
    "\n",
    "aplikasi = []\n",
    "for j in range(5):\n",
    "    nama_aplikasi = input('Nama aplikasi: ')\n",
    "    aplikasi.append(nama_aplikasi)\n",
    "\n",
    "data_aplikasi[nama_kategori] = aplikasi\n",
    "print(data_aplikasi)\n",
    "daftar_aplikasi_list = []\n",
    "\n",
    "for aplikasi in data_aplikasi.values():\n",
    "    daftar_aplikasi_list.append(set(aplikasi))\n",
    "    print(daftar_aplikasi_list)\n",
    "\n",
    "hasil = daftar_aplikasi_list[0]\n",
    "for i in range(1, len(daftar_aplikasi_list)):\n",
    "    shasil = hasil.intersection(daftar_aplikasi_list[i])\n",
    "print(hasil)\n"
   ]
  },
  {
   "cell_type": "code",
   "execution_count": 2,
   "metadata": {},
   "outputs": [
    {
     "name": "stdout",
     "output_type": "stream",
     "text": [
      "Data awal:\n",
      "List: [1, 2, 3, 4, 4, 5]\n",
      "Set: {3, 4, 5, 6, 7}\n",
      "Tuple: (5, 6, 7, 8, 8)\n",
      "\n",
      "Setelah konversi:\n",
      "List -> Set: [3, 4, 5, 6, 7]\n",
      "Set -> List: {1, 2, 3, 4, 5}\n",
      "Tuple -> Set: (3, 4, 5, 6, 7)\n",
      "Set -> Tuple: {8, 5, 6, 7}\n"
     ]
    }
   ],
   "source": [
    "# Data awal\n",
    "cont_list = [1, 2, 3, 4, 4, 5]\n",
    "cont_set = {3, 4, 5, 6, 7}\n",
    "tup = (5, 6, 7, 8, 8)\n",
    "\n",
    "#list ke set\n",
    "list_ke_set = set(cont_list)\n",
    "\n",
    "#set ke list\n",
    "set_ke_list = list(cont_set)\n",
    "\n",
    "#tuple ke set\n",
    "tuple_ke_set = set(tup)\n",
    "\n",
    "#set ke tuple\n",
    "set_ke_tuple = tuple(cont_set)\n",
    "\n",
    "\n",
    "print(\"Data awal:\")\n",
    "print(\"List:\", cont_list)\n",
    "print(\"Set:\", cont_set)\n",
    "print(\"Tuple:\", tup)\n",
    "\n",
    "print(\"\\nSetelah konversi:\")\n",
    "print(\"List -> Set:\", list_ke_set)\n",
    "print(\"Set -> List:\", set_ke_list)\n",
    "print(\"Tuple -> Set:\", tuple_ke_set)\n",
    "print(\"Set -> Tuple:\", set_ke_tuple)"
   ]
  },
  {
   "cell_type": "code",
   "execution_count": 6,
   "metadata": {},
   "outputs": [
    {
     "name": "stdout",
     "output_type": "stream",
     "text": [
      "File 'm' tidak ada.\n",
      "File 'b' tidak ada.\n",
      "Kata-kata yang muncul pada kedua file:\n"
     ]
    }
   ],
   "source": [
    "def read_file(filename):\n",
    "    try:\n",
    "        with open(filename, 'r') as f:\n",
    "            isi = f.read()\n",
    "            return isi.lower().split()\n",
    "    except FileNotFoundError:\n",
    "        print(f\"File '{filename}' tidak ditemukan\")\n",
    "        return []\n",
    "\n",
    "def main():\n",
    "    file1 = input(\"Nama file pertama: \")\n",
    "    file2 = input(\"Nama file kedua: \")\n",
    "\n",
    "    words1 = read_file(file1)\n",
    "    words2 = read_file(file2)\n",
    "\n",
    "    common_words = set(words1) & set(words2)\n",
    "    print(\"Kata-kata yang muncul pada kedua file:\")\n",
    "    for word in common_words:\n",
    "        print(word)\n",
    "\n",
    "if __name__ == \"__main__\":\n",
    "    main()\n"
   ]
  }
 ],
 "metadata": {
  "kernelspec": {
   "display_name": "Python 3",
   "language": "python",
   "name": "python3"
  },
  "language_info": {
   "codemirror_mode": {
    "name": "ipython",
    "version": 3
   },
   "file_extension": ".py",
   "mimetype": "text/x-python",
   "name": "python",
   "nbconvert_exporter": "python",
   "pygments_lexer": "ipython3",
   "version": "3.12.0"
  }
 },
 "nbformat": 4,
 "nbformat_minor": 2
}
