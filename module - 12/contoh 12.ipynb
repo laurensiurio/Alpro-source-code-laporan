{
 "cells": [
  {
   "cell_type": "code",
   "execution_count": 3,
   "metadata": {},
   "outputs": [
    {
     "name": "stdout",
     "output_type": "stream",
     "text": [
      "{'hino', ' kawasaki', 'BMW', 'ducati', 'toyota', 'suzuki', 'honda', 'yamaha', 'TVS'}\n"
     ]
    }
   ],
   "source": [
    "#union\n",
    "merek_mobil = {'toyota', 'suzuki', 'honda', 'hino'}\n",
    "merek_motor = {'yamaha', ' kawasaki', 'ducati', 'BMW', 'TVS'}\n",
    "\n",
    "gabungan = merek_mobil | merek_motor\n",
    "print(gabungan)"
   ]
  },
  {
   "cell_type": "code",
   "execution_count": 4,
   "metadata": {},
   "outputs": [
    {
     "name": "stdout",
     "output_type": "stream",
     "text": [
      "{'suzuki', 'honda'}\n"
     ]
    }
   ],
   "source": [
    "#Intersection\n",
    "merek_mobil = {'toyota', 'suzuki', 'honda', 'hino'}\n",
    "merek_motor = {'yamaha', ' kawasaki', 'ducati', 'suzuki', 'honda'}\n",
    "gabungan = merek_mobil & merek_motor\n",
    "print(gabungan)\n"
   ]
  },
  {
   "cell_type": "code",
   "execution_count": 5,
   "metadata": {},
   "outputs": [
    {
     "name": "stdout",
     "output_type": "stream",
     "text": [
      "3\n",
      "71200120\n",
      "71200214\n",
      "71200195\n"
     ]
    }
   ],
   "source": [
    "nim = {'71200120', '71200195', '71200214'}\n",
    "jumlah_nim = len(nim)\n",
    "print(jumlah_nim) \n",
    "for n in nim:\n",
    "    print(n)\n"
   ]
  },
  {
   "cell_type": "code",
   "execution_count": 6,
   "metadata": {},
   "outputs": [
    {
     "name": "stdout",
     "output_type": "stream",
     "text": [
      "2\n",
      "AD 6810 MT\n",
      "AB 1890 XA\n"
     ]
    }
   ],
   "source": [
    "plat_nomor = set()\n",
    "plat_nomor.add('AB 1890 XA')\n",
    "plat_nomor.add('AD 6810 MT')\n",
    "print(len(plat_nomor)) \n",
    "plat_nomor.add('AB 1890 XA') \n",
    "for plat in plat_nomor:\n",
    "    print(plat)\n"
   ]
  },
  {
   "cell_type": "code",
   "execution_count": 7,
   "metadata": {},
   "outputs": [
    {
     "name": "stdout",
     "output_type": "stream",
     "text": [
      "{29, 23, 7, 11, 13}\n",
      "{29, 23, 7, 11, 13}\n",
      "29\n",
      "{23, 7, 11, 13}\n",
      "set()\n"
     ]
    }
   ],
   "source": [
    "bilangan_prima = {13, 23, 7, 29, 11, 5}\n",
    "bilangan_prima.remove(5)\n",
    "print(bilangan_prima) \n",
    "bilangan_prima.discard(97) \n",
    "print(bilangan_prima)\n",
    "bilangan = bilangan_prima.pop() \n",
    "print(bilangan)\n",
    "print(bilangan_prima)\n",
    "bilangan_prima.clear() \n",
    "print(bilangan_prima) \n"
   ]
  },
  {
   "cell_type": "code",
   "execution_count": 9,
   "metadata": {},
   "outputs": [
    {
     "name": "stdout",
     "output_type": "stream",
     "text": [
      "{'jara', 'jowo'}\n",
      "{'jwalk', 'joe', 'jono', 'jaja'}\n"
     ]
    }
   ],
   "source": [
    "#Difference \n",
    "english = {'joni', 'jono', 'jontor', 'joe', 'jaja', 'jwalk'}\n",
    "korean = {'joni', 'jontor', 'jara', 'jowo'}\n",
    "\n",
    "only_korean = korean - english\n",
    "print(only_korean)\n",
    "\n",
    "only_english = english - korean\n",
    "print(only_english)\n"
   ]
  },
  {
   "cell_type": "code",
   "execution_count": 10,
   "metadata": {},
   "outputs": [
    {
     "name": "stdout",
     "output_type": "stream",
     "text": [
      "{'joe', 'jaja', 'jwalk', 'jara', 'jowo', 'jono'}\n"
     ]
    }
   ],
   "source": [
    "#Symmetric Difference\n",
    "english = {'joni', 'jono', 'jontor', 'joe', 'jaja', 'jwalk'}\n",
    "korean = {'joni', 'jontor', 'jara', 'jowo'}\n",
    "\n",
    "one_language = english ^ korean\n",
    "print(one_language)\n"
   ]
  }
 ],
 "metadata": {
  "kernelspec": {
   "display_name": "Python 3",
   "language": "python",
   "name": "python3"
  },
  "language_info": {
   "codemirror_mode": {
    "name": "ipython",
    "version": 3
   },
   "file_extension": ".py",
   "mimetype": "text/x-python",
   "name": "python",
   "nbconvert_exporter": "python",
   "pygments_lexer": "ipython3",
   "version": "3.12.0"
  }
 },
 "nbformat": 4,
 "nbformat_minor": 2
}
