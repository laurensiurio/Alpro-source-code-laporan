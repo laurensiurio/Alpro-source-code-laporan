{
 "cells": [
  {
   "cell_type": "markdown",
   "metadata": {},
   "source": [
    "Vidi adalah adik Tono yang sedang belajar bilangan prima. Vidi mengalami kesulitan untuk menentukan suatu bilangan bilangan prima atau bukan. Untuk membantu adiknya\n",
    "Tono kemudian membuat program untuk pengecekan bilangan prima dengan menggunakan\n",
    "fungsi rekursif. Bantulah Tono untuk menyelesaikan tugas tersebut. "
   ]
  },
  {
   "cell_type": "code",
   "execution_count": 3,
   "metadata": {},
   "outputs": [
    {
     "name": "stdout",
     "output_type": "stream",
     "text": [
      "17 adalah bilangan prima\n"
     ]
    }
   ],
   "source": [
    "def prima(n, pembagi=2):\n",
    "    if n <= 1:\n",
    "        return False\n",
    "    if pembagi * pembagi > n:\n",
    "        return True\n",
    "    if n % pembagi == 0:\n",
    "        return False\n",
    "    return prima(n, pembagi + 1)\n",
    "\n",
    "angka = 17\n",
    "if prima(angka):\n",
    "    print(f\"{angka} adalah bilangan prima\")\n",
    "else:\n",
    "    print(f\"{angka} bukan bilangan prima\")"
   ]
  },
  {
   "cell_type": "markdown",
   "metadata": {},
   "source": [
    "Buatlah fungsi rekursif mengetahui suatu kalimat adalah palindrom atau bukan! "
   ]
  },
  {
   "cell_type": "code",
   "execution_count": 6,
   "metadata": {},
   "outputs": [
    {
     "name": "stdout",
     "output_type": "stream",
     "text": [
      "'ikan Kakap' bukan palindrom\n"
     ]
    }
   ],
   "source": [
    "def palindrome(s):\n",
    "    if len(s) <= 1:\n",
    "        return True\n",
    "    if s[0] == s[-1]:\n",
    "        return palindrome(s[1:-1])\n",
    "    else:\n",
    "        return False\n",
    "\n",
    "\n",
    "kalimat1 = \"ikan Kakap\"\n",
    "\n",
    "hasil_kalimat1 = kalimat1.replace(\" \", \"\").lower()\n",
    "\n",
    "result1 = palindrome(hasil_kalimat1)\n",
    "\n",
    "if result1:\n",
    "    print(f\"'{kalimat1}' adalah palindrom\")\n",
    "else:\n",
    "    print(f\"'{kalimat1}' bukan palindrom\")\n",
    "\n"
   ]
  },
  {
   "cell_type": "markdown",
   "metadata": {},
   "source": [
    "Buatlah fungsi rekursif untuk menghitung jumlah deret ganjil dari 1 + 3 + 7 + . . . + n!"
   ]
  },
  {
   "cell_type": "code",
   "execution_count": 8,
   "metadata": {},
   "outputs": [
    {
     "name": "stdout",
     "output_type": "stream",
     "text": [
      "Jumlah deret ganjil dari 5! adalah 25\n"
     ]
    }
   ],
   "source": [
    "def deret_ganjil(n):\n",
    "    if n == 1:\n",
    "        return 1\n",
    "    else:\n",
    "        return (2 * n - 1) + deret_ganjil(n - 1)\n",
    "\n",
    "# Contoh penggunaan\n",
    "n = 5\n",
    "hasil = deret_ganjil(n)\n",
    "print(f\"Jumlah deret ganjil dari {n}! adalah {hasil}\")\n"
   ]
  },
  {
   "cell_type": "markdown",
   "metadata": {},
   "source": [
    "Buatlah fungsi rekursif untuk mengetahui jumlah digit dari suatu bilangan. Seperti\n",
    "misalnya tulisan: \"234\" maka jumlah digitnya adalah 2+3+4 = 9!"
   ]
  },
  {
   "cell_type": "code",
   "execution_count": 9,
   "metadata": {},
   "outputs": [
    {
     "name": "stdout",
     "output_type": "stream",
     "text": [
      "Jumlah digit dari 567 adalah 18\n"
     ]
    }
   ],
   "source": [
    "def jumlah_digit(n):\n",
    "    if n < 10:\n",
    "        return n\n",
    "    else:\n",
    "        return n % 10 + jumlah_digit(n // 10)\n",
    "\n",
    "# Pemanggilan\n",
    "bilangan = 567\n",
    "hasil = jumlah_digit(bilangan)\n",
    "print(f\"Jumlah digit dari {bilangan} adalah {hasil}\")\n"
   ]
  },
  {
   "cell_type": "markdown",
   "metadata": {},
   "source": [
    "Buatlah fungsi rekursif untuk menghitung kombinasi! "
   ]
  },
  {
   "cell_type": "code",
   "execution_count": 10,
   "metadata": {},
   "outputs": [
    {
     "name": "stdout",
     "output_type": "stream",
     "text": [
      "Kombinasi C(5, 3) adalah 10\n"
     ]
    }
   ],
   "source": [
    "def kombi(n,m):\n",
    "    if m == 0:\n",
    "        return 1\n",
    "    elif n<m:\n",
    "        return 0\n",
    "    else:\n",
    "        return kombi(n-1,m-1) + kombi(n-1,m)\n",
    "    \n",
    "n = 5\n",
    "m = 3\n",
    "hasil = kombi(n, m)\n",
    "print(f\"Kombinasi ({n}, {m}) adalah {hasil}\")    "
   ]
  }
 ],
 "metadata": {
  "kernelspec": {
   "display_name": "Python 3",
   "language": "python",
   "name": "python3"
  },
  "language_info": {
   "codemirror_mode": {
    "name": "ipython",
    "version": 3
   },
   "file_extension": ".py",
   "mimetype": "text/x-python",
   "name": "python",
   "nbconvert_exporter": "python",
   "pygments_lexer": "ipython3",
   "version": "3.12.0"
  }
 },
 "nbformat": 4,
 "nbformat_minor": 2
}
