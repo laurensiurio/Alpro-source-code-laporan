{
 "cells": [
  {
   "cell_type": "code",
   "execution_count": 14,
   "metadata": {},
   "outputs": [
    {
     "name": "stdout",
     "output_type": "stream",
     "text": [
      "kata mata dan atma adalah anagram.\n"
     ]
    }
   ],
   "source": [
    "#latihan 1\n",
    "def anagram(kata1, kata2):\n",
    "      \n",
    "    if(sorted(kata1)== sorted(kata2)):\n",
    "        print(f\"kata {kata1} dan {kata2} adalah anagram.\") \n",
    "    else:\n",
    "        print(f\"kata {kata1} dan {kata2} bukan anagram.\")         \n",
    "         \n",
    " \n",
    "kata1 = input('masukkan kata pertama:')\n",
    "kata2 = input('masukkan kata kedua:') \n",
    "anagram(kata1, kata2)"
   ]
  },
  {
   "cell_type": "code",
   "execution_count": 42,
   "metadata": {},
   "outputs": [
    {
     "name": "stdout",
     "output_type": "stream",
     "text": [
      "makan ada 2 buah\n"
     ]
    }
   ],
   "source": [
    "#latihan 2\n",
    "def paling_sering(kalimat, kata):\n",
    "    kata_hasil = kalimat.lower().split()\n",
    "    return kata_hasil.count(kata.lower())\n",
    "\n",
    "kalimat = \"makan itu wajib. Mau siang atau malam itu wajib makan\"\n",
    "kata = \"makan\"\n",
    "frekuensi = paling_sering(kalimat, kata)\n",
    "\n",
    "print(f\"{kata} ada {frekuensi} buah\")\n",
    "\n",
    "\n"
   ]
  },
  {
   "cell_type": "code",
   "execution_count": 20,
   "metadata": {},
   "outputs": [],
   "source": [
    "#latihan 3\n",
    "def no_spasi(kalimat):\n",
    "    \n",
    "    kata = filter(None, kalimat.split(' '))\n",
    "    hasil = kata\n",
    "    print(' '.join(hasil))\n",
    "\n",
    "\n",
    "kalimat = input('masukkan kalimat:')\n",
    "\n"
   ]
  },
  {
   "cell_type": "code",
   "execution_count": 25,
   "metadata": {},
   "outputs": [
    {
     "name": "stdout",
     "output_type": "stream",
     "text": [
      "Output: terpendek: in, terpanjang: that\n"
     ]
    }
   ],
   "source": [
    "#latihan 4\n",
    "def panjang_pendek(kalimat):\n",
    "    kata = kalimat.split()\n",
    "    terpendek = terpanjang = kata[0]\n",
    "    for i in kata:\n",
    "        if len(i) < len(terpendek):\n",
    "            terpendek = i\n",
    "            hasil_terpendek = terpendek\n",
    "        if len(i) > len(terpanjang):\n",
    "            terpanjang = i\n",
    "            hasil_terpanjang = terpanjang\n",
    "    print(f\"Output: terpendek: {hasil_terpendek}, terpanjang: {hasil_terpanjang}\")\n",
    "\n",
    "kalimat = input('masukkan kalimat:')\n",
    "panjang_pendek(kalimat)\n",
    "\n",
    "\n",
    "\n"
   ]
  }
 ],
 "metadata": {
  "kernelspec": {
   "display_name": "Python 3",
   "language": "python",
   "name": "python3"
  },
  "language_info": {
   "codemirror_mode": {
    "name": "ipython",
    "version": 3
   },
   "file_extension": ".py",
   "mimetype": "text/x-python",
   "name": "python",
   "nbconvert_exporter": "python",
   "pygments_lexer": "ipython3",
   "version": "3.12.0"
  }
 },
 "nbformat": 4,
 "nbformat_minor": 2
}
