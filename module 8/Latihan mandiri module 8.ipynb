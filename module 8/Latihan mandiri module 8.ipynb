{
 "cells": [
  {
   "cell_type": "markdown",
   "metadata": {},
   "source": [
    " Buatlah sebuah program yang dapat membandingkan 2 buah file teks dan kemudian\n",
    "menampilkan perbedaan antar kedua teks per barisnya jika ada perbedaaan!"
   ]
  },
  {
   "cell_type": "code",
   "execution_count": 2,
   "metadata": {},
   "outputs": [
    {
     "name": "stdout",
     "output_type": "stream",
     "text": [
      "membandingkan file: \n",
      "file1.txt\n",
      "file2.txt\n",
      "\n",
      "kalimat atau kata yang sama di kedua file:\n",
      "\n",
      "\n",
      "kalimat atau kata yang berbeda di kedua file:\n",
      "Line-1 ikan goreng\n",
      "Line-1 ayam goreng\n",
      "\n"
     ]
    }
   ],
   "source": [
    "#latihan 1\n",
    "file_1 = open('file1.txt', 'r') \n",
    "file_2 = open('file2.txt', 'r') \n",
    "  \n",
    "print(\"membandingkan file: \", \"file1.txt\",  \"file2.txt\", sep='\\n') \n",
    "  \n",
    "file_1_line = file_1.readline() \n",
    "file_2_line = file_2.readline() \n",
    "  \n",
    "\n",
    "line_no = 1\n",
    "  \n",
    "print() \n",
    "  \n",
    "with open('file1.txt') as file1: \n",
    "    with open('file2.txt') as file2: \n",
    "        same = set(file1).intersection(file2) \n",
    "  \n",
    "print(\"kalimat atau kata yang sama di kedua file:\") \n",
    "  \n",
    "for line in same: \n",
    "    print(line, end='') \n",
    "  \n",
    "print('\\n') \n",
    "print(\"kalimat atau kata yang berbeda di kedua file:\") \n",
    "while file_1_line != '' or file_2_line != '': \n",
    "  \n",
    "    \n",
    "    file_1_line = file_1_line.rstrip() \n",
    "    file_2_line = file_2_line.rstrip() \n",
    "  \n",
    "    \n",
    "    if file_1_line != file_2_line: \n",
    "        if file_1_line == '': \n",
    "            print(\"Line-%d\" % line_no, file_1_line) \n",
    "        else: \n",
    "            print(\"Line-%d\" % line_no, file_1_line) \n",
    "              \n",
    "        if file_2_line == '': \n",
    "            print(\"Line-%d\" % line_no, file_2_line) \n",
    "        else: \n",
    "            print(\"Line-%d\" % line_no, file_2_line) \n",
    "  \n",
    "        \n",
    "        print() \n",
    "  \n",
    "    \n",
    "    file_1_line = file_1.readline() \n",
    "    file_2_line = file_2.readline() \n",
    "  \n",
    "    line_no += 1\n",
    "  \n",
    "file_1.close() \n",
    "file_2.close()\n",
    "\n",
    "\n",
    "\n"
   ]
  },
  {
   "cell_type": "markdown",
   "metadata": {},
   "source": [
    "Buatlah sebuah program untuk menampilkan soal sederhana yang diambil dari file\n",
    "teks soal.txt yang memiliki format sebagai berikut:\n",
    "1+1 = || 2\n",
    "Bendera Indonesia? || Merah Putih\n",
    "Kota gudeg adalah: || Yogyakarta\n",
    "Komponen PC untuk penyimpanan file adalah... || harddisk\n",
    "50 * 20 = || 1000\n",
    "Dari soal tersebut tampilkan sbb:\n",
    "nama file1: soal.txt\n",
    "1+1 =\n",
    "Jawab: 2\n",
    "Jawaban benar!\n",
    "Bendera Indonesia?\n",
    "Jawab: merah putih\n",
    "Jawaban benar!\n",
    "Kota gudeg adalah:\n",
    "Jawab: yogya\n",
    "Jawaban salah!\n",
    "Komponen PC untuk penyimpanan file adalah...\n",
    "Jawab: HARDDISK\n",
    "Jawaban benar!"
   ]
  },
  {
   "cell_type": "code",
   "execution_count": 1,
   "metadata": {},
   "outputs": [
    {
     "name": "stdout",
     "output_type": "stream",
     "text": [
      "file name: soal.txt\n",
      "1+1 =\n"
     ]
    },
    {
     "name": "stdout",
     "output_type": "stream",
     "text": [
      "jawaban : 2\n",
      "Jawaban benar!\n",
      "Bendera Indonesia?\n",
      "jawaban : merah putih\n",
      "Jawaban benar!\n",
      "Kota gudeg adalah:\n",
      "jawaban : yogyakarta\n",
      "Jawaban benar!\n",
      "Komponen PC untuk penyimpanan file adalah...\n",
      "jawaban : harddisk\n",
      "Jawaban benar!\n",
      "50 * 20 =\n",
      "jawaban : 1000\n",
      "Jawaban benar!\n"
     ]
    }
   ],
   "source": [
    "#latihan 2\n",
    "with open('soal.txt', 'r') as file:\n",
    "    lines = file.readlines()\n",
    "    print('file name:',file.name)\n",
    "\n",
    "for line in lines:\n",
    "    pertanyaan, jawaban = line.strip().split('||')\n",
    "    print(pertanyaan.strip())\n",
    "    jawaban_user = input('Jawab: ').strip().lower()\n",
    "    if jawaban_user == jawaban.strip().lower():\n",
    "        print('jawaban :',jawaban_user)\n",
    "        print('Jawaban benar!')\n",
    "    else:\n",
    "        print('Jawaban salah!')\n",
    "        print('Jawaban yang benar adalah: ' + jawaban.strip() + '\\n')"
   ]
  }
 ],
 "metadata": {
  "kernelspec": {
   "display_name": "Python 3",
   "language": "python",
   "name": "python3"
  },
  "language_info": {
   "codemirror_mode": {
    "name": "ipython",
    "version": 3
   },
   "file_extension": ".py",
   "mimetype": "text/x-python",
   "name": "python",
   "nbconvert_exporter": "python",
   "pygments_lexer": "ipython3",
   "version": "3.12.0"
  }
 },
 "nbformat": 4,
 "nbformat_minor": 2
}
