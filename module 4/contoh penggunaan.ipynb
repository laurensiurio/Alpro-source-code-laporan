{
 "cells": [
  {
   "cell_type": "code",
   "execution_count": 34,
   "metadata": {},
   "outputs": [],
   "source": [
    "#contoh fungsi materi 1\n",
    "\n",
    "\n",
    "def luas_persegi(sisi):\n",
    "   \n",
    "    luas = sisi ** 2\n",
    "    print(f\"Luas persegi dengan sisi {sisi} adalah {luas}.\")\n",
    "\n",
    "\n",
    "luas_persegi(10)\n",
    "\n",
    "\n",
    "luas_persegi(5)\n",
    "\n",
    "\n",
    "\n",
    "\n",
    "\n",
    "\n",
    "\n"
   ]
  },
  {
   "cell_type": "code",
   "execution_count": 36,
   "metadata": {},
   "outputs": [],
   "source": [
    "#contoh materi 2\n",
    "def tambah(a, b, c):\n",
    "    hasil = a + b + c\n",
    "    return hasil\n",
    "\n"
   ]
  },
  {
   "cell_type": "code",
   "execution_count": 37,
   "metadata": {},
   "outputs": [
    {
     "name": "stdout",
     "output_type": "stream",
     "text": [
      "100000.0\n",
      "90000.0\n",
      "50000.0\n"
     ]
    }
   ],
   "source": [
    "#contoh materi 3\n",
    "def hitung_belanja(belanja, diskon=0):\n",
    "    bayar = belanja - (belanja * diskon)/100\n",
    "    return bayar\n",
    "\n",
    "print(hitung_belanja(100000))\n",
    "print(hitung_belanja(100000, 10))\n",
    "print(hitung_belanja(100000, 50))\n"
   ]
  },
  {
   "cell_type": "code",
   "execution_count": 38,
   "metadata": {},
   "outputs": [
    {
     "name": "stdout",
     "output_type": "stream",
     "text": [
      "25\n"
     ]
    }
   ],
   "source": [
    "#contog materi 4\n",
    "# Contoh fungsi lambda untuk menghitung kuadrat\n",
    "hitung_kuadrat = lambda x: x ** 2\n",
    "\n",
    "# Memanggil fungsi lambda\n",
    "print(hitung_kuadrat(5))  # Output: 25\n"
   ]
  }
 ],
 "metadata": {
  "kernelspec": {
   "display_name": "Python 3",
   "language": "python",
   "name": "python3"
  },
  "language_info": {
   "codemirror_mode": {
    "name": "ipython",
    "version": 3
   },
   "file_extension": ".py",
   "mimetype": "text/x-python",
   "name": "python",
   "nbconvert_exporter": "python",
   "pygments_lexer": "ipython3",
   "version": "3.12.0"
  }
 },
 "nbformat": 4,
 "nbformat_minor": 2
}
