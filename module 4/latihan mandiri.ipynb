{
 "cells": [
  {
   "cell_type": "code",
   "execution_count": 55,
   "metadata": {},
   "outputs": [
    {
     "name": "stdout",
     "output_type": "stream",
     "text": [
      "False\n"
     ]
    }
   ],
   "source": [
    "# latihan 1\n",
    "\n",
    "def cek_angka(a, b, c):\n",
    "    \n",
    "    \n",
    "    if a != b and a != c and b != c:\n",
    "    \n",
    "        if a + b == c or a + c == b or b + c == a:\n",
    "            return True\n",
    "           \n",
    "        \n",
    "        else:\n",
    "            return False\n",
    "    else:\n",
    "        print('masukkan angka yang berbeda!!') \n",
    "       \n",
    "    \n",
    "a = int(input(\"masukkan angka pertama\"))\n",
    "b = int(input(\"masukkan angka kedua\"))\n",
    "c = int(input(\"masukkan angka ketiga\"))\n",
    "\n",
    "print(cek_angka(a, b, c)) \n",
    "\n",
    "\n",
    "\n"
   ]
  },
  {
   "cell_type": "code",
   "execution_count": 51,
   "metadata": {},
   "outputs": [
    {
     "name": "stdout",
     "output_type": "stream",
     "text": [
      "False\n"
     ]
    }
   ],
   "source": [
    "#latihan 2\n",
    "\n",
    "def cek_digit_belakang(x, y, z):\n",
    "   \n",
    "    \n",
    "    digit_x = x % 10\n",
    "    digit_y = y % 10\n",
    "    digit_z = z % 10\n",
    "\n",
    "    \n",
    "    if digit_x == digit_y or digit_x == digit_z or digit_y == digit_z:\n",
    "        \n",
    "        return True\n",
    "    else:\n",
    "        \n",
    "        return False\n",
    "\n",
    "x = int(input(\"masukkan angka pertama\"))\n",
    "y = int(input(\"masukkan angka kedua\"))\n",
    "z = int(input(\"masukkan angka ketiga\"))\n",
    "print(cek_digit_belakang(x, y, z))\n",
    "\n"
   ]
  },
  {
   "cell_type": "code",
   "execution_count": 60,
   "metadata": {},
   "outputs": [
    {
     "name": "stdout",
     "output_type": "stream",
     "text": [
      "Suhu 80.0 celcius setara dengan, 176.0 fahrenheit atau 64.0 reamur.\n"
     ]
    }
   ],
   "source": [
    "#latihan 3\n",
    "\n",
    "celcius_to_fahrenheit = lambda C: (9/5) * C + 32\n",
    "celcius_to_reamur = lambda C: 0.8 * C\n",
    "\n",
    "\n",
    "C = float(input(\"Masukkan suhu dalam Celcius: \"))\n",
    "\n",
    "\n",
    "F = celcius_to_fahrenheit(C)\n",
    "R = celcius_to_reamur(C)\n",
    "print(f\"Suhu {C} celcius setara dengan, {F:.1f} fahrenheit atau {R:.1f} reamur.\")\n",
    "\n",
    "\n"
   ]
  }
 ],
 "metadata": {
  "kernelspec": {
   "display_name": "Python 3",
   "language": "python",
   "name": "python3"
  },
  "language_info": {
   "codemirror_mode": {
    "name": "ipython",
    "version": 3
   },
   "file_extension": ".py",
   "mimetype": "text/x-python",
   "name": "python",
   "nbconvert_exporter": "python",
   "pygments_lexer": "ipython3",
   "version": "3.12.0"
  }
 },
 "nbformat": 4,
 "nbformat_minor": 2
}
