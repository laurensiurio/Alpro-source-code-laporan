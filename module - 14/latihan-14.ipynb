{
 "cells": [
  {
   "cell_type": "code",
   "execution_count": 8,
   "metadata": {},
   "outputs": [
    {
     "name": "stdout",
     "output_type": "stream",
     "text": [
      "1945-08-17 17-08-1945 selisih 28783 hari\n",
      "1785-11-11 11-11-1785 selisih 87135 hari\n",
      "1783-06-08 08-06-1783 selisih 88022 hari\n",
      "1890-05-02 02-05-1890 selisih 48978 hari\n"
     ]
    }
   ],
   "source": [
    "#soal 1\n",
    "import re\n",
    "from datetime import datetime\n",
    "\n",
    "def file(file_path):\n",
    "\n",
    "    with open(file_path, 'r') as file:\n",
    "        text = file.read()\n",
    "    \n",
    "\n",
    "    tanggal = re.findall(r'\\d{4}-\\d{2}-\\d{2}', text)\n",
    "    \n",
    "\n",
    "    sekarang = datetime.now()\n",
    "    \n",
    "    \n",
    "    hasil = []\n",
    "    for data in tanggal:\n",
    "        data_obj = datetime.strptime(data, '%Y-%m-%d')\n",
    "        format = data_obj.strftime('%d-%m-%Y')\n",
    "        data_delta = (sekarang - data_obj).days\n",
    "        hasil.append(f\"{data} {format} selisih {data_delta} hari\")\n",
    "    \n",
    "    return hasil\n",
    "\n",
    "file_path = 'pahlawan.txt' \n",
    "hasil = file(file_path)\n",
    "for j in hasil:\n",
    "    print(j)\n"
   ]
  },
  {
   "cell_type": "code",
   "execution_count": 6,
   "metadata": {},
   "outputs": [
    {
     "name": "stdout",
     "output_type": "stream",
     "text": [
      "anton@mail.com username: anton , password: DqBNWz91\n",
      "budi@gmail.co.id username: budi , password: 6AW3Yiz8\n",
      "slamet@getnada.com username: slamet , password: zHP7Cks5\n",
      "matahari@tokopedia.com username: matahari , password: UJwbmj5E\n"
     ]
    }
   ],
   "source": [
    "#soal 2\n",
    "import re\n",
    "import random\n",
    "import string\n",
    "\n",
    "def random_pass(length=8):\n",
    "    karakter = string.ascii_letters + string.digits\n",
    "    return ''.join(random.choice(karakter) for i in range(length))\n",
    "\n",
    "def file(file_path):\n",
    "    with open(file_path, 'r') as file:\n",
    "        text = file.read()\n",
    "    \n",
    "    \n",
    "    email = re.findall(r'\\b[A-Za-z0-9._%+-]+@[A-Za-z0-9.-]+\\.[A-Z|a-z]{2,}\\b', text)\n",
    "    \n",
    "    hasil = []\n",
    "    for i in email:\n",
    "        username = i.split('@')[0]\n",
    "        password = random_pass()\n",
    "        hasil.append(f\"{i} username: {username} , password: {password}\")\n",
    "    \n",
    "    return hasil\n",
    "\n",
    "\n",
    "file_path = 'password.txt'  \n",
    "hasil = file(file_path)\n",
    "for j in hasil:\n",
    "    print(j)\n"
   ]
  }
 ],
 "metadata": {
  "kernelspec": {
   "display_name": "Python 3",
   "language": "python",
   "name": "python3"
  },
  "language_info": {
   "codemirror_mode": {
    "name": "ipython",
    "version": 3
   },
   "file_extension": ".py",
   "mimetype": "text/x-python",
   "name": "python",
   "nbconvert_exporter": "python",
   "pygments_lexer": "ipython3",
   "version": "3.12.0"
  }
 },
 "nbformat": 4,
 "nbformat_minor": 2
}
