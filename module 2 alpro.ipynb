{
 "cells": [
  {
   "cell_type": "code",
   "execution_count": 29,
   "metadata": {},
   "outputs": [
    {
     "name": "stdout",
     "output_type": "stream",
     "text": [
      "1. Pendapatan Budi selama libur musim panas sebelum melakukan pembayaran pajak, Rp  25000000\n",
      "2. Pendapatan Budi selama libur musim panas setelah melakukan pembayaran pajak, Rp  21500000\n",
      "3. Jumlah uang yang akan Budi habiskan untuk membeli pakaian dan aksesoris, Rp  2150000\n",
      "4. Jumlah uang yang akan Budi habiskan untuk membeli alat tulis, Rp  215000\n",
      "5. Jumlah uang yang akan Budi sedekahkan, Rp  5375000\n",
      "6. Jumlah uang yang akan diterima anak yatim, Rp  177600\n",
      "7. Jumlah uang yang akan diterima kaum dhuafa, Rp  414400\n"
     ]
    }
   ],
   "source": [
    "def hitung_pendapatan(gaji_per_jam, jam_kerja):\n",
    "    pendapatan_sebelum_pajak = gaji_per_jam * jam_kerja * 5\n",
    "    pajak = pendapatan_sebelum_pajak * 0.14\n",
    "    pendapatan_setelah_pajak = pendapatan_sebelum_pajak - pajak\n",
    "    uang_pakaian = pendapatan_setelah_pajak * 0.10\n",
    "    uang_alat_tulis = pendapatan_setelah_pajak * 0.01\n",
    "    uang_sedekah = pendapatan_setelah_pajak * 0.25\n",
    "\n",
    "    uang_sedekah_akhir = uang_sedekah\n",
    "    setiap_seribu = 0.25 * (pendapatan_setelah_pajak - uang_pakaian - uang_alat_tulis)\n",
    "\n",
    "    if setiap_seribu >= 1000:\n",
    "        uang_sedekah_akhir -= (setiap_seribu // 1000) * 1000\n",
    "\n",
    "    uang_anak_yatim = 0.30 * uang_sedekah_akhir\n",
    "    uang_kaum_dhuafa = 0.70 * uang_sedekah_akhir\n",
    "\n",
    "    return (pendapatan_sebelum_pajak, pendapatan_setelah_pajak, uang_pakaian, uang_alat_tulis, uang_sedekah, uang_anak_yatim, uang_kaum_dhuafa)\n",
    "\n",
    "gaji_per_jam = float(input(\"masukkan gaji per jam: \"))\n",
    "jam_kerja = int(input(\"masukkan jumlah jam kerja dalam seminggu: \"))\n",
    "\n",
    "pendapatan_sebelum_pajak, pendapatan_setelah_pajak, uang_pakaian, uang_alat_tulis, uang_sedekah_akhir, uang_anak_yatim, uang_kaum_dhuafa = hitung_pendapatan(gaji_per_jam, jam_kerja)\n",
    "\n",
    "print(\"1. Pendapatan Budi selama libur musim panas sebelum melakukan pembayaran pajak, Rp \", round (pendapatan_sebelum_pajak))\n",
    "print(\"2. Pendapatan Budi selama libur musim panas setelah melakukan pembayaran pajak, Rp \", round (pendapatan_setelah_pajak))\n",
    "print(\"3. Jumlah uang yang akan Budi habiskan untuk membeli pakaian dan aksesoris, Rp \", round (uang_pakaian))\n",
    "print(\"4. Jumlah uang yang akan Budi habiskan untuk membeli alat tulis, Rp \", round (uang_alat_tulis))\n",
    "print(\"5. Jumlah uang yang akan Budi sedekahkan, Rp \", round (uang_sedekah_akhir))\n",
    "print(\"6. Jumlah uang yang akan diterima anak yatim, Rp \", round (uang_anak_yatim))\n",
    "print(\"7. Jumlah uang yang akan diterima kaum dhuafa, Rp \", round (uang_kaum_dhuafa))"
   ]
  },
  {
   "cell_type": "code",
   "execution_count": 27,
   "metadata": {},
   "outputs": [
    {
     "name": "stdout",
     "output_type": "stream",
     "text": [
      "1. Pendapatan Budi selama libur musim panas sebelum melakukan pembayaran pajak, Rp  25000000\n",
      "2. Pendapatan Budi selama libur musim panas setelah melakukan pembayaran pajak, Rp  21500000\n",
      "3. Jumlah uang yang akan Budi habiskan untuk membeli pakaian dan aksesoris, Rp  2150000\n",
      "4. Jumlah uang yang akan Budi habiskan untuk membeli alat tulis, Rp  215000\n",
      "5. Jumlah uang yang akan Budi sedekahkan, Rp  592250\n",
      "6. Jumlah uang yang akan diterima anak yatim, Rp  177675\n",
      "7. Jumlah uang yang akan diterima kaum dhuafa, Rp  414575\n"
     ]
    }
   ],
   "source": [
    "def hitung_pendapatan(gaji_per_jam, jam_kerja):\n",
    "    pendapatan_sebelum_pajak = gaji_per_jam * jam_kerja * 5\n",
    "    pajak = pendapatan_sebelum_pajak * 0.14\n",
    "    pendapatan_setelah_pajak = pendapatan_sebelum_pajak - pajak\n",
    "    uang_pakaian = pendapatan_setelah_pajak * 0.10\n",
    "    uang_alat_tulis = pendapatan_setelah_pajak * 0.01\n",
    "    uang_sedekah = pendapatan_setelah_pajak * 0.25\n",
    " \n",
    "    \n",
    "    \n",
    "    return (pendapatan_sebelum_pajak, pendapatan_setelah_pajak, uang_pakaian, uang_alat_tulis, uang_sedekah, uang_anak_yatim, uang_kaum_dhuafa)\n",
    "\n",
    "\n",
    "setiap_seribu = 0.25 * (pendapatan_setelah_pajak - uang_pakaian - uang_alat_tulis)\n",
    "uang_sedekah = pendapatan_setelah_pajak * 0.25\n",
    "while setiap_seribu % 1000 and setiap_seribu > 1000:\n",
    " setiap_seribu -= 1000\n",
    " \n",
    " uang_sedekah_akhir = uang_sedekah - setiap_seribu\n",
    " \n",
    " uang_anak_yatim = (0.30 * uang_sedekah_akhir)\n",
    " uang_kaum_dhuafa = (0.70 * uang_sedekah_akhir)\n",
    "\n",
    " while setiap_seribu % 1000 == 0 and setiap_seribu >= 1000 or setiap_seribu % 1000 != 0 and setiap_seribu >= 1000:\n",
    "  setiap_seribu -= 1000\n",
    "\n",
    "\n",
    "gaji_per_jam = float(input(\"Masukkan gaji per jam yang anda inginkan: \"))\n",
    "jam_kerja = int(input(\"Masukkan jumlah jam kerja yang akan dilakukan dalam 1 minggu: \"))\n",
    "\n",
    "pendapatan_sebelum_pajak, pendapatan_setelah_pajak, uang_pakaian, uang_alat_tulis, uang_sedekah, uang_anak_yatim, uang_kaum_dhuafa = hitung_pendapatan(gaji_per_jam, jam_kerja)\n",
    "\n",
    "print(\"1. Pendapatan Budi selama libur musim panas sebelum melakukan pembayaran pajak, Rp \", round (pendapatan_sebelum_pajak))\n",
    "print(\"2. Pendapatan Budi selama libur musim panas setelah melakukan pembayaran pajak, Rp \", round (pendapatan_setelah_pajak))\n",
    "print(\"3. Jumlah uang yang akan Budi habiskan untuk membeli pakaian dan aksesoris, Rp \", round (uang_pakaian))\n",
    "print(\"4. Jumlah uang yang akan Budi habiskan untuk membeli alat tulis, Rp \", round (uang_alat_tulis))\n",
    "print(\"5. Jumlah uang yang akan Budi sedekahkan, Rp \", round (uang_sedekah_akhir))\n",
    "print(\"6. Jumlah uang yang akan diterima anak yatim, Rp \", round (uang_anak_yatim))\n",
    "print(\"7. Jumlah uang yang akan diterima kaum dhuafa, Rp \", round (uang_kaum_dhuafa))"
   ]
  },
  {
   "cell_type": "code",
   "execution_count": 47,
   "metadata": {},
   "outputs": [
    {
     "name": "stdout",
     "output_type": "stream",
     "text": [
      "berat anda 129.96\n"
     ]
    }
   ],
   "source": [
    "def hitung_berat_badan_diperlukan(tinggi_cm, target_bmi):\n",
    "    \n",
    "    tinggi_m = tinggi_cm / 100\n",
    "\n",
    "    \n",
    "    berat_badan_diperlukan = target_bmi * (tinggi_m ** 2)\n",
    "\n",
    "    return berat_badan_diperlukan\n",
    "\n",
    "\n",
    "tinggi_cm = float(input(\"masukkan tinggi kamu (dalam centimeter): \"))\n",
    "\n",
    "\n",
    "target_bmi = float(input(\"masukkan bmi yang diharapkan \"))\n",
    "\n",
    "\n",
    "berat_diperlukan = hitung_berat_badan_diperlukan(tinggi_cm, target_bmi)\n",
    "\n",
    "\n",
    "print(\"berat anda\", (berat_diperlukan))\n",
    "\n",
    "\n",
    "\n"
   ]
  },
  {
   "cell_type": "code",
   "execution_count": 16,
   "metadata": {},
   "outputs": [
    {
     "name": "stdout",
     "output_type": "stream",
     "text": [
      "Nilai x jika ( 2 ) adalah:  27.5\n"
     ]
    }
   ],
   "source": [
    "x = int(input(\"Masukkan nilai x: \"))\n",
    "\n",
    "def f(x):\n",
    "    bil1 = 2 *x ** 3\n",
    "    bil2 = 2 * x \n",
    "    bil3 = 15 / x \n",
    "    fx = bil1 + bil2 + bil3\n",
    "    return fx\n",
    "print(\"Nilai x jika (\",x, \") adalah: \", f(x))"
   ]
  }
 ],
 "metadata": {
  "kernelspec": {
   "display_name": "Python 3",
   "language": "python",
   "name": "python3"
  },
  "language_info": {
   "codemirror_mode": {
    "name": "ipython",
    "version": 3
   },
   "file_extension": ".py",
   "mimetype": "text/x-python",
   "name": "python",
   "nbconvert_exporter": "python",
   "pygments_lexer": "ipython3",
   "version": "3.12.0"
  }
 },
 "nbformat": 4,
 "nbformat_minor": 2
}
