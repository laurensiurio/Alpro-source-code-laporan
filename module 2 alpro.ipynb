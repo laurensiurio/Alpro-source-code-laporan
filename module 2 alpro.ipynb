{
 "cells": [
  {
   "cell_type": "code",
   "execution_count": 2,
   "metadata": {},
   "outputs": [
    {
     "name": "stdout",
     "output_type": "stream",
     "text": [
      "1. Pendapatan Budi selama libur musim panas sebelum melakukan pembayaran pajak:  250.0\n",
      "2. Pendapatan Budi selama libur musim panas setelah melakukan pembayaran pajak:  215.0\n",
      "3. Jumlah uang yang akan Budi habiskan untuk membeli pakaian dan aksesoris:  25.0\n",
      "4. Jumlah uang yang akan Budi habiskan untuk membeli alat tulis:  2.5\n",
      "5. Jumlah uang yang akan Budi sedekahkan:  62.5\n",
      "6. Jumlah uang yang akan diterima anak yatim:  18.75\n",
      "7. Jumlah uang yang akan diterima kaum dhuafa:  43.75\n"
     ]
    }
   ],
   "source": [
    "\n",
    "def hitung_pendapatan(gaji_per_jam, jam_kerja):\n",
    "    pendapatan_bersih = gaji_per_jam * jam_kerja * 5\n",
    "    pajak = pendapatan_bersih * 0.14\n",
    "    pendapatan_setelah_pajak = pendapatan_bersih - pajak\n",
    "    uang_pakaian = pendapatan_bersih * 0.10\n",
    "    uang_alat_tulis = pendapatan_bersih * 0.01\n",
    "    uang_sedekah = pendapatan_bersih * 0.25\n",
    "    uang_anak_yatim = uang_sedekah * 0.30\n",
    "    uang_kaum_dhuafa = uang_sedekah - uang_anak_yatim\n",
    "    return (pendapatan_bersih, pendapatan_setelah_pajak, uang_pakaian, uang_alat_tulis, uang_sedekah, uang_anak_yatim, uang_kaum_dhuafa)\n",
    "\n",
    "gaji_per_jam = float(input(\"Masukkan gaji per jam yang anda inginkan: \"))\n",
    "jam_kerja = int(input(\"Masukkan jumlah jam kerja yang akan dilakukan dalam 1 minggu: \"))\n",
    "\n",
    "pendapatan_bersih, pendapatan_setelah_pajak, uang_pakaian, uang_alat_tulis, uang_sedekah, uang_anak_yatim, uang_kaum_dhuafa = hitung_pendapatan(gaji_per_jam, jam_kerja)\n",
    "\n",
    "print(\"1. Pendapatan Budi selama libur musim panas sebelum melakukan pembayaran pajak: \", pendapatan_bersih)\n",
    "print(\"2. Pendapatan Budi selama libur musim panas setelah melakukan pembayaran pajak: \", pendapatan_setelah_pajak)\n",
    "print(\"3. Jumlah uang yang akan Budi habiskan untuk membeli pakaian dan aksesoris: \", uang_pakaian)\n",
    "print(\"4. Jumlah uang yang akan Budi habiskan untuk membeli alat tulis: \", uang_alat_tulis)\n",
    "print(\"5. Jumlah uang yang akan Budi sedekahkan: \", uang_sedekah)\n",
    "print(\"6. Jumlah uang yang akan diterima anak yatim: \", uang_anak_yatim)\n",
    "print(\"7. Jumlah uang yang akan diterima kaum dhuafa: \", uang_kaum_dhuafa)"
   ]
  },
  {
   "cell_type": "code",
   "execution_count": 4,
   "metadata": {},
   "outputs": [
    {
     "name": "stdout",
     "output_type": "stream",
     "text": [
      "Berat badan yang diperlukan untuk BMI yang diharapkan:  0.1 kg\n"
     ]
    }
   ],
   "source": [
    "def hitung_berat_badan(tinggi_badan, bmi_harapkan):\n",
    "    bmi_sekarang = tinggi_badan ** 2\n",
    "    berat_badan_harapkan = bmi_harapkan / bmi_sekarang\n",
    "    berat_badan_sekarang = 0\n",
    "\n",
    "    while True:\n",
    "        if berat_badan_harapkan <= berat_badan_sekarang <= berat_badan_harapkan + 0.1:\n",
    "            break\n",
    "        elif berat_badan_harapkan < berat_badan_sekarang:\n",
    "            berat_badan_sekarang -= 0.1\n",
    "        else:\n",
    "            berat_badan_sekarang += 0.1\n",
    "\n",
    "    return berat_badan_sekarang\n",
    "\n",
    "tinggi_badan = float(input(\"Masukkan tinggi badan anda (dalam meter): \"))\n",
    "bmi_harapkan = float(input(\"Masukkan BMI yang diharapkan (dalam kg/m2): \"))\n",
    "\n",
    "berat_badan_sekarang = hitung_berat_badan(tinggi_badan, bmi_harapkan)\n",
    "\n",
    "print(\"Berat badan yang diperlukan untuk BMI yang diharapkan: \", berat_badan_sekarang, \"kg\")"
   ]
  },
  {
   "cell_type": "code",
   "execution_count": 6,
   "metadata": {},
   "outputs": [
    {
     "name": "stdout",
     "output_type": "stream",
     "text": [
      "Hasil dari f( 2 ) =  35\n"
     ]
    }
   ],
   "source": [
    "# Fungsi f(x) = 2x^3 + 2x + 15\n",
    "\n",
    "def f(x):\n",
    "    return 2 * x**3 + 2 * x + 15\n",
    "\n",
    "# Meminta masukkan nilai x\n",
    "x = int(input(\"Masukkan bilangan bulat: \"))\n",
    "\n",
    "# Menghitung hasil f(x)\n",
    "hasil = f(x)\n",
    "\n",
    "# Menampilkan hasil\n",
    "print(\"Hasil dari f(\", x, \") = \", hasil)"
   ]
  }
 ],
 "metadata": {
  "kernelspec": {
   "display_name": "Python 3",
   "language": "python",
   "name": "python3"
  },
  "language_info": {
   "codemirror_mode": {
    "name": "ipython",
    "version": 3
   },
   "file_extension": ".py",
   "mimetype": "text/x-python",
   "name": "python",
   "nbconvert_exporter": "python",
   "pygments_lexer": "ipython3",
   "version": "3.12.0"
  }
 },
 "nbformat": 4,
 "nbformat_minor": 2
}
