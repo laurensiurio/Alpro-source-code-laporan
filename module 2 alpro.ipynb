{
 "cells": [
  {
   "cell_type": "code",
   "execution_count": 8,
   "metadata": {},
   "outputs": [
    {
     "name": "stdout",
     "output_type": "stream",
     "text": [
      "1. Pendapatan Budi selama libur musim panas sebelum melakukan pembayaran pajak:  25000000.0\n",
      "2. Pendapatan Budi selama libur musim panas setelah melakukan pembayaran pajak:  21500000.0\n",
      "3. Jumlah uang yang akan Budi habiskan untuk membeli pakaian dan aksesoris:  2500000.0\n",
      "4. Jumlah uang yang akan Budi habiskan untuk membeli alat tulis:  250000.0\n",
      "5. Jumlah uang yang akan Budi sedekahkan:  6250000.0\n",
      "6. Jumlah uang yang akan diterima anak yatim:  1875000.0\n",
      "7. Jumlah uang yang akan diterima kaum dhuafa:  4375000.0\n"
     ]
    }
   ],
   "source": [
    "def hitung_pendapatan(gaji_per_jam, jam_kerja):\n",
    "    pendapatan_bersih = gaji_per_jam * jam_kerja * 5\n",
    "    pajak = pendapatan_bersih * 0.14\n",
    "    pendapatan_setelah_pajak = pendapatan_bersih - pajak\n",
    "    uang_pakaian = pendapatan_bersih * 0.10\n",
    "    uang_alat_tulis = pendapatan_bersih * 0.01\n",
    "    uang_sedekah = pendapatan_bersih * 0.25\n",
    "    uang_anak_yatim = uang_sedekah * 0.30\n",
    "    uang_kaum_dhuafa = uang_sedekah - uang_anak_yatim\n",
    "    return (pendapatan_bersih, pendapatan_setelah_pajak, uang_pakaian, uang_alat_tulis, uang_sedekah, uang_anak_yatim, uang_kaum_dhuafa)\n",
    "\n",
    "gaji_per_jam = float(input(\"Masukkan gaji per jam yang anda inginkan: \"))\n",
    "jam_kerja = int(input(\"Masukkan jumlah jam kerja yang akan dilakukan dalam 1 minggu: \"))\n",
    "\n",
    "pendapatan_bersih, pendapatan_setelah_pajak, uang_pakaian, uang_alat_tulis, uang_sedekah, uang_anak_yatim, uang_kaum_dhuafa = hitung_pendapatan(gaji_per_jam, jam_kerja)\n",
    "\n",
    "print(\"1. Pendapatan Budi selama libur musim panas sebelum melakukan pembayaran pajak: \", pendapatan_bersih)\n",
    "print(\"2. Pendapatan Budi selama libur musim panas setelah melakukan pembayaran pajak: \", pendapatan_setelah_pajak)\n",
    "print(\"3. Jumlah uang yang akan Budi habiskan untuk membeli pakaian dan aksesoris: \", uang_pakaian)\n",
    "print(\"4. Jumlah uang yang akan Budi habiskan untuk membeli alat tulis: \", uang_alat_tulis)\n",
    "print(\"5. Jumlah uang yang akan Budi sedekahkan: \", uang_sedekah)\n",
    "print(\"6. Jumlah uang yang akan diterima anak yatim: \", uang_anak_yatim)\n",
    "print(\"7. Jumlah uang yang akan diterima kaum dhuafa: \", uang_kaum_dhuafa)"
   ]
  },
  {
   "cell_type": "code",
   "execution_count": 13,
   "metadata": {},
   "outputs": [
    {
     "name": "stdout",
     "output_type": "stream",
     "text": [
      "1. Pendapatan Budi selama libur musim panas sebelum melakukan pembayaran pajak, Rp  25000000\n",
      "2. Pendapatan Budi selama libur musim panas setelah melakukan pembayaran pajak, Rp  21500000\n",
      "3. Jumlah uang yang akan Budi habiskan untuk membeli pakaian dan aksesoris, Rp  2150000\n",
      "4. Jumlah uang yang akan Budi habiskan untuk membeli alat tulis, Rp  215000\n",
      "5. Jumlah uang yang akan Budi sedekahkan, Rp  6250000\n",
      "6. Jumlah uang yang akan diterima anak yatim, Rp  1874850\n",
      "7. Jumlah uang yang akan diterima kaum dhuafa, Rp  4375000\n"
     ]
    }
   ],
   "source": [
    "def hitung_pendapatan(gaji_per_jam, jam_kerja):\n",
    "  pendapatan_sebelum_pajak = gaji_per_jam * jam_kerja * 5\n",
    "  pajak = pendapatan_sebelum_pajak * 0.14\n",
    "  pendapatan_setelah_pajak = pendapatan_sebelum_pajak - pajak\n",
    "  uang_pakaian = pendapatan_setelah_pajak * 0.10\n",
    "  uang_alat_tulis = pendapatan_setelah_pajak * 0.01\n",
    "    \n",
    "  return (pendapatan_sebelum_pajak, pendapatan_setelah_pajak, uang_pakaian, uang_alat_tulis, uang_sedekah, uang_anak_yatim, uang_kaum_dhuafa)  \n",
    "\n",
    "\n",
    "\n",
    "\n",
    "setiap_seribu = 0.25 * (pendapatan_setelah_pajak - uang_pakaian - uang_alat_tulis)\n",
    "\n",
    "while setiap_seribu % 1000 and setiap_seribu > 1000:\n",
    "  setiap_seribu -= 1000\n",
    "\n",
    "uang_sedekah_akhir = uang_sedekah - setiap_seribu\n",
    "\n",
    "uang_anak_yatim = (0.30 * uang_sedekah_akhir)\n",
    "uang_dhuafa = (0.70 * uang_sedekah_akhir)\n",
    "\n",
    "while setiap_seribu % 1000 == 0 and setiap_seribu >= 1000 or setiap_seribu % 1000 != 0 and setiap_seribu >= 1000:\n",
    "  setiap_seribu -= 1000\n",
    "\n",
    "\n",
    "\n",
    "\n",
    "\n",
    "gaji_per_jam = float(input(\"Masukkan gaji per jam yang anda inginkan: \"))\n",
    "jam_kerja = int(input(\"Masukkan jumlah jam kerja yang akan dilakukan dalam 1 minggu: \"))\n",
    "   \n",
    "pendapatan_sebelum_pajak, pendapatan_setelah_pajak, uang_pakaian, uang_alat_tulis, uang_sedekah_akhir, uang_anak_yatim, uang_kaum_dhuafa = hitung_pendapatan(gaji_per_jam, jam_kerja)\n",
    "\n",
    "\n",
    "\n",
    "\n",
    "\n",
    "print(\"1. Pendapatan Budi selama libur musim panas sebelum melakukan pembayaran pajak, Rp \", round (pendapatan_sebelum_pajak))\n",
    "print(\"2. Pendapatan Budi selama libur musim panas setelah melakukan pembayaran pajak, Rp \", round (pendapatan_setelah_pajak))\n",
    "print(\"3. Jumlah uang yang akan Budi habiskan untuk membeli pakaian dan aksesoris, Rp \", round (uang_pakaian))\n",
    "print(\"4. Jumlah uang yang akan Budi habiskan untuk membeli alat tulis, Rp \", round (uang_alat_tulis))\n",
    "print(\"5. Jumlah uang yang akan Budi sedekahkan, Rp \", round (uang_sedekah_akhir))\n",
    "print(\"6. Jumlah uang yang akan diterima anak yatim, Rp \", round (uang_anak_yatim))\n",
    "print(\"7. Jumlah uang yang akan diterima kaum dhuafa, Rp \", round (uang_kaum_dhuafa))"
   ]
  },
  {
   "cell_type": "code",
   "execution_count": 6,
   "metadata": {},
   "outputs": [
    {
     "name": "stdout",
     "output_type": "stream",
     "text": [
      "Berat badan yang diperlukan untuk BMI yang diharapkan:  0.1 kg\n"
     ]
    }
   ],
   "source": [
    "def hitung_berat_badan(tinggi_badan, bmi_harapkan):\n",
    "    bmi_sekarang = tinggi_badan ** 2\n",
    "    berat_badan_harapkan = bmi_harapkan / bmi_sekarang\n",
    "    berat_badan_sekarang = 0\n",
    "\n",
    "    while True:\n",
    "        if berat_badan_harapkan <= berat_badan_sekarang <= berat_badan_harapkan + 0.1:\n",
    "            break\n",
    "        elif berat_badan_harapkan < berat_badan_sekarang:\n",
    "            berat_badan_sekarang -= 0.1\n",
    "        else:\n",
    "            berat_badan_sekarang += 0.1\n",
    "\n",
    "    return berat_badan_sekarang\n",
    "\n",
    "tinggi_badan = float(input(\"Masukkan tinggi badan anda (dalam centimeter): \"))\n",
    "bmi_harapkan = float(input(\"Masukkan BMI yang diharapkan (dalam kg/m2): \"))\n",
    "\n",
    "berat_badan_sekarang = hitung_berat_badan(tinggi_badan, bmi_harapkan)\n",
    "\n",
    "print(\"Berat badan yang diperlukan untuk BMI yang diharapkan: \", berat_badan_sekarang, \"kg\")"
   ]
  },
  {
   "cell_type": "code",
   "execution_count": 16,
   "metadata": {},
   "outputs": [
    {
     "name": "stdout",
     "output_type": "stream",
     "text": [
      "Nilai x jika ( 2 ) adalah:  27.5\n"
     ]
    }
   ],
   "source": [
    "x = int(input(\"Masukkan nilai x: \"))\n",
    "\n",
    "def f(x):\n",
    "    bil1 = 2 *x ** 3\n",
    "    bil2 = 2 * x \n",
    "    bil3 = 15 / x \n",
    "    fx = bil1 + bil2 + bil3\n",
    "    return fx\n",
    "print(\"Nilai x jika (\",x, \") adalah: \", f(x))"
   ]
  },
  {
   "cell_type": "code",
   "execution_count": 5,
   "metadata": {},
   "outputs": [
    {
     "name": "stdout",
     "output_type": "stream",
     "text": [
      "The value of f( 2 ) is:  27.5\n"
     ]
    }
   ],
   "source": [
    "# Get the value of x from the user\n",
    "x = int(input(\"Enter the value of x: \"))\n",
    "\n",
    "# Calculate the value of f(x)\n",
    "fx = 2 * x ** 3 + 2 * x + 15 / x\n",
    "\n",
    "# Print the result\n",
    "print(\"The value of f(\", x, \") is: \", fx)"
   ]
  }
 ],
 "metadata": {
  "kernelspec": {
   "display_name": "Python 3",
   "language": "python",
   "name": "python3"
  },
  "language_info": {
   "codemirror_mode": {
    "name": "ipython",
    "version": 3
   },
   "file_extension": ".py",
   "mimetype": "text/x-python",
   "name": "python",
   "nbconvert_exporter": "python",
   "pygments_lexer": "ipython3",
   "version": "3.12.0"
  }
 },
 "nbformat": 4,
 "nbformat_minor": 2
}
