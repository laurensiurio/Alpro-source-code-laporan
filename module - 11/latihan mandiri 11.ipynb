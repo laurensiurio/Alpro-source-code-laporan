{
 "cells": [
  {
   "cell_type": "markdown",
   "metadata": {},
   "source": [
    "Buatlah program untuk melakukan pengecekan apakah semua anggota yang ada\n",
    "didalam tuple sama.\n",
    "Contoh:\n",
    "tA= (90, 90, 90, 90)\n",
    "Output\n",
    "True"
   ]
  },
  {
   "cell_type": "code",
   "execution_count": 1,
   "metadata": {},
   "outputs": [
    {
     "name": "stdout",
     "output_type": "stream",
     "text": [
      "True\n",
      "False\n"
     ]
    }
   ],
   "source": [
    "def cek(isi):\n",
    "    return all(x == isi[0] for x in isi)\n",
    "\n",
    "tup = (10, 10, 10, 10)\n",
    "print(cek(tup))  \n",
    "tup = (10, 10, 10, 120)\n",
    "print(cek(tup)) "
   ]
  },
  {
   "cell_type": "markdown",
   "metadata": {},
   "source": [
    "Buatlah program dengan menggunakan tuple yang dapat melalakukan proses\n",
    "seperti pada kasus 11.1, Gunakan data diri anda masing-masing dan lakukan perubahan supaya\n",
    "didapatkan output seperti contoh berikut ini :\n",
    "Contoh:\n",
    "Data: ('Matahari Bhakti Nendya', '22064091', 'Bantul, DI Yogyakarta')\n",
    "NIM : 22064091\n",
    "NAMA : Matahari Bhakti Nendya\n",
    "ALAMAT : Bantul, DI Yogyakarta\n",
    "NIM: ('2', '2', '0', '6', '4', '0', '9', '1')\n",
    "NAMA DEPAN: ('a', 't', 'a', 'h', 'a', 'r', 'i')\n",
    "NAMA TERBALIK: ('Nendya', 'Bhakti', 'Matahari')\n"
   ]
  },
  {
   "cell_type": "code",
   "execution_count": 28,
   "metadata": {},
   "outputs": [
    {
     "name": "stdout",
     "output_type": "stream",
     "text": [
      "Data: Laurensius Rio Darryl, 71231022, Jombor, Sleman\n",
      "NIM: 71231022\n",
      "NAMA: Laurensius Rio Darryl\n",
      "ALAMAT: Jombor, Sleman\n",
      "NIM: ('7', '1', '2', '3', '1', '0', '2', '2')\n",
      "NAMA DEPAN: ('l', 'a', 'u', 'r', 'e', 'n', 's', 'i', 'u', 's')\n",
      "NAMA TERBALIK: ('Darryl', 'Rio', 'Laurensius')\n"
     ]
    }
   ],
   "source": [
    "def process_data(data):\n",
    "    nama, nim, alamat = data\n",
    "\n",
    "    print(f\"Data: {nama}, {nim}, {alamat}\")\n",
    "    print(f\"NIM: {nim}\")\n",
    "    print(f\"NAMA: {nama}\")\n",
    "    print(f\"ALAMAT: {alamat}\")\n",
    "\n",
    "    nim_digits = tuple(nim)\n",
    "    print(f\"NIM: {nim_digits}\")\n",
    "\n",
    "    nama_depan = tuple(nama.split()[0].lower())\n",
    "    print(f\"NAMA DEPAN: {nama_depan}\")\n",
    "\n",
    "    nama_terbalik = tuple(reversed(nama.split()))\n",
    "    print(f\"NAMA TERBALIK: {nama_terbalik}\")\n",
    "\n",
    "data = ('Laurensius Rio Darryl', '71231022', 'Jombor, Sleman')\n",
    "process_data(data)\n"
   ]
  },
  {
   "cell_type": "markdown",
   "metadata": {},
   "source": [
    "Buatlah program untuk menghitung distribusi jam dalam satu hari dimana ada\n",
    "pesan yang diterima dari setiap email yang masuk. Gunakan file mbox-short.txt untuk sebagai\n",
    "datanya. Berikut ini adalah contoh output dari programmnya."
   ]
  },
  {
   "cell_type": "code",
   "execution_count": 26,
   "metadata": {},
   "outputs": [
    {
     "name": "stdout",
     "output_type": "stream",
     "text": [
      "masukkan nama file : mbox-short.txt\n",
      "04 3\n",
      "06 1\n",
      "07 1\n",
      "09 2\n",
      "10 3\n",
      "11 6\n",
      "14 1\n",
      "15 2\n",
      "16 4\n",
      "17 2\n",
      "18 1\n",
      "19 1\n"
     ]
    }
   ],
   "source": [
    "with open('mbox-short.txt', 'r') as f:\n",
    "    hasil = {}\n",
    "    for line in f:\n",
    "        if line.startswith(\"From \"):\n",
    "            waktu = line.split()[5]\n",
    "            jam = waktu.split(':')[0]\n",
    "            hasil[jam] = hasil.get(jam, 0) + 1\n",
    "            \n",
    "hasil_akhir = sorted(hasil.items())\n",
    "print('masukkan nama file :',f.name)\n",
    "for jam, count in hasil_akhir:\n",
    "    print(f\"{jam} {count}\")    \n"
   ]
  }
 ],
 "metadata": {
  "kernelspec": {
   "display_name": "Python 3",
   "language": "python",
   "name": "python3"
  },
  "language_info": {
   "codemirror_mode": {
    "name": "ipython",
    "version": 3
   },
   "file_extension": ".py",
   "mimetype": "text/x-python",
   "name": "python",
   "nbconvert_exporter": "python",
   "pygments_lexer": "ipython3",
   "version": "3.12.0"
  }
 },
 "nbformat": 4,
 "nbformat_minor": 2
}
