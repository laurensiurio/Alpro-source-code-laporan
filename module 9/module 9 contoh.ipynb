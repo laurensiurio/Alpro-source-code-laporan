{
 "cells": [
  {
   "cell_type": "code",
   "execution_count": 4,
   "metadata": {},
   "outputs": [
    {
     "name": "stdout",
     "output_type": "stream",
     "text": [
      "[1, 2, 3, 4, 5, 6, 7, 8, 9, 10, 11, 12, 13, 14]\n"
     ]
    }
   ],
   "source": [
    "bil1 = [1,2,3,4,5,6]\n",
    "bil2 = [7,8,9,10]\n",
    "bil3 = [11,12,13,14]\n",
    "bilTotal = bil1 + bil2 + bil3\n",
    "print(bilTotal)\n"
   ]
  },
  {
   "cell_type": "code",
   "execution_count": 3,
   "metadata": {},
   "outputs": [
    {
     "name": "stdout",
     "output_type": "stream",
     "text": [
      "[1, 2, 3, 4, 1, 2, 3, 4, 1, 2, 3, 4]\n"
     ]
    }
   ],
   "source": [
    "bil1 = [1,2,3,4]\n",
    "bilTotal = [1,2,3,4]*3\n",
    "print(bilTotal)\n"
   ]
  },
  {
   "cell_type": "code",
   "execution_count": 17,
   "metadata": {},
   "outputs": [
    {
     "name": "stdout",
     "output_type": "stream",
     "text": [
      "budi\n",
      "rian\n"
     ]
    }
   ],
   "source": [
    "nama = [\"budi\", \"bambang\", \"rian\", \"ryan\"]\n",
    "print (nama [0])\n",
    "print (nama [-2])\n"
   ]
  },
  {
   "cell_type": "code",
   "execution_count": 25,
   "metadata": {},
   "outputs": [
    {
     "name": "stdout",
     "output_type": "stream",
     "text": [
      "['budi', 'aldi', 'aldo', 'ryan']\n"
     ]
    }
   ],
   "source": [
    "nama = [\"budi\", \"bambang\", \"rian\", \"ryan\"]\n",
    "nama [1:3] = [\"aldi\", \"aldo\"]\n",
    "print(nama)\n"
   ]
  },
  {
   "cell_type": "code",
   "execution_count": 29,
   "metadata": {},
   "outputs": [
    {
     "name": "stdout",
     "output_type": "stream",
     "text": [
      "['kuncoro', 'felix', 'ryan', 'yuan', ['bejo', 'tejo']]\n"
     ]
    }
   ],
   "source": [
    "nama = ['kuncoro', 'felix', 'ryan', 'yuan']\n",
    "nama.append(['bejo', 'tejo'])\n",
    "print(nama)\n"
   ]
  },
  {
   "cell_type": "code",
   "execution_count": 30,
   "metadata": {},
   "outputs": [
    {
     "name": "stdout",
     "output_type": "stream",
     "text": [
      "['kuncoro', 'felix', 'ryan', 'yuan', 'bejo', 'tejo']\n"
     ]
    }
   ],
   "source": [
    "nama = ['kuncoro', 'felix', 'ryan', 'yuan']\n",
    "nama.extend(['bejo', 'tejo'])\n",
    "print(nama)"
   ]
  },
  {
   "cell_type": "code",
   "execution_count": 32,
   "metadata": {},
   "outputs": [
    {
     "name": "stdout",
     "output_type": "stream",
     "text": [
      "['felix', 'kuncoro', 'ryan', 'yuan']\n"
     ]
    }
   ],
   "source": [
    "nama = ['kuncoro', 'felix', 'ryan', 'yuan']\n",
    "nama.sort()\n",
    "print(nama)"
   ]
  },
  {
   "cell_type": "code",
   "execution_count": 33,
   "metadata": {},
   "outputs": [
    {
     "name": "stdout",
     "output_type": "stream",
     "text": [
      "['yuan', 'ryan', 'kuncoro', 'felix']\n"
     ]
    }
   ],
   "source": [
    "nama = ['kuncoro', 'felix', 'ryan', 'yuan']\n",
    "nama.sort(reverse = True)\n",
    "print(nama)"
   ]
  }
 ],
 "metadata": {
  "kernelspec": {
   "display_name": "Python 3",
   "language": "python",
   "name": "python3"
  },
  "language_info": {
   "codemirror_mode": {
    "name": "ipython",
    "version": 3
   },
   "file_extension": ".py",
   "mimetype": "text/x-python",
   "name": "python",
   "nbconvert_exporter": "python",
   "pygments_lexer": "ipython3",
   "version": "3.12.0"
  }
 },
 "nbformat": 4,
 "nbformat_minor": 2
}
