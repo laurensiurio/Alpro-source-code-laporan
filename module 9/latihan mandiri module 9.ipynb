{
 "cells": [
  {
   "cell_type": "markdown",
   "metadata": {},
   "source": [
    "Buatlah sebuah progam untuk mencari 3 nilai terbaik pada sebuah list. progam akan menampilkan 3 nilai terbaik dimulai dari yang paling tinggi\n",
    "\n"
   ]
  },
  {
   "cell_type": "code",
   "execution_count": 44,
   "metadata": {},
   "outputs": [
    {
     "name": "stdout",
     "output_type": "stream",
     "text": [
      "Tiga nilai terbaik: [20, 12, 11]\n"
     ]
    }
   ],
   "source": [
    "def nilai_tiga(daftar):\n",
    "    if len(daftar) < 3:\n",
    "        return \"Masukkan setidaknya tiga angka.\" \n",
    "    \n",
    "    daftar.sort(reverse=True, key = int)\n",
    "    tiga_nilai_terbaik = daftar[:3]\n",
    "    return tiga_nilai_terbaik\n",
    "\n",
    "try:\n",
    "    daftar_angka = [int(x) for x in input(\"Masukkan angka, pisahkan dengan koma: \").split(\",\")]\n",
    "    hasil = nilai_tiga(daftar_angka)\n",
    "    print(\"Tiga nilai terbaik:\", hasil)\n",
    "except ValueError:\n",
    "    print(\"Masukkan hanya angka.\")\n"
   ]
  },
  {
   "cell_type": "markdown",
   "metadata": {},
   "source": [
    "Buatlah sebuah progam yang meminta masukan dari user dan mentimpannya dalam bentuk tipe data list dalam bentuk angka. saat user memasukkan imput 'done', maka progam akan menampilkan nilai maksimum dan minimum dari deretan angka yang sudah user masukkan. Gunakan fungsi list max() dan min() pada progam ini."
   ]
  },
  {
   "cell_type": "code",
   "execution_count": 45,
   "metadata": {},
   "outputs": [
    {
     "name": "stdout",
     "output_type": "stream",
     "text": [
      "Nilai maksimum: 20.0\n",
      "Nilai minimum: 5.0\n"
     ]
    }
   ],
   "source": [
    "def masukkan():\n",
    "    daftar_angka = []\n",
    "\n",
    "    while True:\n",
    "        input_angka = input(\"Masukkan angka ketik 'done' jika sudah selesai: \")\n",
    "        if input_angka.lower() == 'done':\n",
    "            break\n",
    "\n",
    "        try:\n",
    "            angka = float(input_angka)\n",
    "            daftar_angka.append(angka)\n",
    "        except ValueError:\n",
    "            print(\"Masukkan angka saja atau ketik 'done' untuk selesai.\")\n",
    "\n",
    "    if len(daftar_angka) == 0:\n",
    "        print(\"list kosong.\")\n",
    "    else:\n",
    "        nilai_maksimum = max(daftar_angka)\n",
    "        nilai_minimum = min(daftar_angka)\n",
    "        print(f\"Nilai maksimum: {nilai_maksimum}\")\n",
    "        print(f\"Nilai minimum: {nilai_minimum}\")\n",
    "\n",
    "if __name__ == \"__main__\":\n",
    "    masukkan()\n"
   ]
  },
  {
   "cell_type": "markdown",
   "metadata": {},
   "source": [
    "Carilah artikel berita pada media massa online. Simpan dalam bentuk file *.txt. Buatlah progam untuk membaca file*.txt tersebut dan membaca file baris demi baris kalimat. Untuk setiap kalimat, pecahlah menjadi setiap kata dengan fungsi split(). Simpan kata pada variabel kata dengan tipe data list. Hasil akhir progam ialah variabel kata akan menyimpan kata unik pada file berita tersebut. Hasil luaran seperti contoh berikut:\n"
   ]
  },
  {
   "cell_type": "code",
   "execution_count": 43,
   "metadata": {},
   "outputs": [
    {
     "name": "stdout",
     "output_type": "stream",
     "text": [
      "Kata-kata unik dalam berita: ['Koordinator', 'Bidang', 'Kemaritiman', 'dan', 'Investasi', '(Menko', 'Marves)', 'Luhut', 'B', 'Pandjaitan', 'memastikan', 'Microsoft', 'tidak', 'akan', 'menyesal', 'berinvestasi', 'di', 'Indonesia', 'Hal', 'tersebut', 'disampaikan', 'saat', 'menghadiri', '\"Microsoft', 'Build:', 'AI', 'Day\"', 'Jakarta', 'Convention', 'Center', '(JCC)', 'pada', 'Selasa', '(30/4/2024)', '\"Saya', 'pikir', 'jika', 'anda', '(Microsoft)', 'Indonesia,', 'Saya', 'berjanji', 'Sebab,', 'semua', 'insentif', 'yang', 'bisa', 'dapat', 'mana', 'saja,', 'dapatkan', 'sini,\"', 'kata', 'dalam', 'keterangan', 'tertulis', 'melalui', 'laman', 'resmi', 'Kemenkomarves,', 'Rabu', '(1/5/2024)', 'Baca', 'juga:', 'Ini', 'Alasan', 'Rp', '27,6', 'Triliun', 'mengatakan,', 'dirinya', 'sudah', 'berkoordinasi', 'dengan', 'Presiden', '(Jokowi)', 'terkait', 'kerja', 'sama', 'ini', 'Ia', 'juga', 'pemerintah', 'memberikan', 'berbagai', 'bagi', 'seperti', 'halnya', 'India,', 'Thailand,', 'negara', 'lainnya', '“Saya', 'katakan', 'depan', 'Presiden,', 'kirim', 'tim', 'untuk', 'mengunjungi', 'kami,', 'kita', 'mendiskusikan', 'detail', 'tentang', 'investasi', 'kami', 'senang', 'hati', 'mengakomodasikannya,', 'diterima', 'negar-negara', 'lain,”', 'ujarnya', '\"Kami', 'berikan', 'lebih', 'baik', 'dari', 'Jadi', 'siap', 'menerima', 'kalian,', 'kapan', 'pun,', 'minggu', 'depan,', 'atau', 'pun', 'sangat', 'Microsoft,', 'kalian', 'gunakan', 'peluang']\n"
     ]
    }
   ],
   "source": [
    "def berita():\n",
    "    with open('berita.txt', 'r', encoding='utf-8') as file:\n",
    "        berita = file.read()\n",
    "        kalimat_list = berita.split('. ')\n",
    "    \n",
    "    kata_unik = []\n",
    "\n",
    "    for kalimat in kalimat_list:\n",
    "        kata_kalimat = kalimat.split()\n",
    "\n",
    "        for kata in kata_kalimat:\n",
    "            if kata not in kata_unik:\n",
    "                kata_unik.append(kata)\n",
    "\n",
    "    return kata_unik\n",
    "\n",
    "\n",
    "hasil_kata_unik = berita()\n",
    "if len(hasil_kata_unik) > 0:\n",
    "    print(\"Kata-kata unik dalam berita:\",hasil_kata_unik)\n",
    "    \n",
    "else:\n",
    "    print(\"Berita kosong.\")\n"
   ]
  }
 ],
 "metadata": {
  "kernelspec": {
   "display_name": "Python 3",
   "language": "python",
   "name": "python3"
  },
  "language_info": {
   "codemirror_mode": {
    "name": "ipython",
    "version": 3
   },
   "file_extension": ".py",
   "mimetype": "text/x-python",
   "name": "python",
   "nbconvert_exporter": "python",
   "pygments_lexer": "ipython3",
   "version": "3.12.0"
  }
 },
 "nbformat": 4,
 "nbformat_minor": 2
}
