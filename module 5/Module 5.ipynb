{
 "cells": [
  {
   "cell_type": "code",
   "execution_count": 37,
   "metadata": {},
   "outputs": [
    {
     "name": "stdout",
     "output_type": "stream",
     "text": [
      "Hasil perkalian 10 dengan 10 adalah: 100\n"
     ]
    }
   ],
   "source": [
    "#latihan 1\n",
    "def perkalian(bil1, bil2):\n",
    "    hasil = 0\n",
    "    for i in range(1, bil2 + 1):\n",
    "        hasil = hasil + bil1\n",
    "    return hasil\n",
    "\n",
    "bil1 = int(input('masukkan bilangan pertama: '))\n",
    "bil2 = int(input('masukkan bilangan kedua: '))\n",
    "\n",
    "jawaban = perkalian(bil1, bil2)\n",
    "print(f'Hasil perkalian {bil1} dengan {bil2} adalah: {jawaban}')\n",
    "    "
   ]
  },
  {
   "cell_type": "code",
   "execution_count": 2,
   "metadata": {},
   "outputs": [
    {
     "name": "stdout",
     "output_type": "stream",
     "text": [
      "Deret bilangan ganjil dari 50 ke 30 adalah: [49, 47, 45, 43, 41, 39, 37, 35, 33, 31]\n"
     ]
    }
   ],
   "source": [
    "#latihan 2\n",
    "def ganjil(batas_bawah, batas_atas):\n",
    "    if batas_bawah < batas_atas:\n",
    "        return [i for i in range(batas_bawah , batas_atas + 1) if i % 2 != 0]\n",
    "    else:\n",
    "        return [i for i in range(batas_bawah, batas_atas, -1) if i % 2 != 0]\n",
    "\n",
    "\n",
    "batas_bawah = int(input(\"Masukkan batas bawah: \"))\n",
    "batas_atas = int(input(\"Masukkan batas atas: \"))\n",
    "\n",
    "\n",
    "hasil_ganjil = ganjil(batas_bawah, batas_atas)\n",
    "print(f\"Deret bilangan ganjil dari {batas_bawah} ke {batas_atas} adalah: {hasil_ganjil}\")\n",
    "\n",
    "    "
   ]
  },
  {
   "cell_type": "code",
   "execution_count": 45,
   "metadata": {},
   "outputs": [
    {
     "name": "stdout",
     "output_type": "stream",
     "text": [
      "Indeks Prestasi Semester (IPS) Anda adalah 2.67\n"
     ]
    }
   ],
   "source": [
    "#latihan 3\n",
    "def hitung_ips(jumlah_mata_kuliah):\n",
    "    total_sks = jumlah_mata_kuliah * 3\n",
    "    total_bobot = 0\n",
    "\n",
    "    for i in range(jumlah_mata_kuliah):\n",
    "        nilai = input(f\"Masukkan nilai mata kuliah ke-{i+1} (A/B/C/D): \").upper()\n",
    "        if nilai == \"A\":\n",
    "            total_bobot += 4 * 3\n",
    "        elif nilai == \"B\":\n",
    "            total_bobot += 3 * 3\n",
    "        elif nilai == \"C\":\n",
    "            total_bobot += 2 * 3\n",
    "        elif nilai == \"D\":\n",
    "            total_bobot += 1 * 3\n",
    "        else:\n",
    "            print(\"Nilai tidak valid. masukkan huruf A/B/C/D.\")\n",
    "            print(\"Nilai tidak valid. masukkan huruf A/B/C/D.\")\n",
    "            return None  \n",
    "\n",
    "    ips = total_bobot / total_sks\n",
    "    return ips\n",
    "\n",
    "\n",
    "jumlah_mata_kuliah = int(input(\"Masukkan jumlah mata kuliah: \"))\n",
    "ips = hitung_ips(jumlah_mata_kuliah)\n",
    "\n",
    "\n",
    "if ips is not None:\n",
    "    print(f\"Indeks Prestasi Semester (IPS) Anda adalah {ips:.2f}\")\n"
   ]
  }
 ],
 "metadata": {
  "kernelspec": {
   "display_name": "Python 3",
   "language": "python",
   "name": "python3"
  },
  "language_info": {
   "codemirror_mode": {
    "name": "ipython",
    "version": 3
   },
   "file_extension": ".py",
   "mimetype": "text/x-python",
   "name": "python",
   "nbconvert_exporter": "python",
   "pygments_lexer": "ipython3",
   "version": "3.12.0"
  }
 },
 "nbformat": 4,
 "nbformat_minor": 2
}
